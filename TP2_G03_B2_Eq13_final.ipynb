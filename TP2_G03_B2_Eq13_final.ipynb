{
 "cells": [
  {
   "cell_type": "markdown",
   "metadata": {
    "id": "EqZb0c9yA5TC"
   },
   "source": [
    "##### INF8460 – Traitement automatique de la langue naturelle - Automne 2024\n",
    "\n",
    "## TP2: Plongements de mots"
   ]
  },
  {
   "cell_type": "markdown",
   "metadata": {
    "id": "dMn6CuqbA5TE"
   },
   "source": [
    "## Identification de l'équipe:\n",
    "\n",
    "### Groupe de laboratoire:\n",
    "\n",
    "### Equipe numéro :\n",
    "\n",
    "### Membres:\n",
    "\n",
    "- membre 1 (% de contribution, nature de la contribution)\n",
    "- membre 2 (% de contribution, nature de la contribution)\n",
    "- membre 3 (% de contribution, nature de la contribution)\n",
    "\n",
    "* nature de la contribution: Décrivez brièvement ce qui a été fait par chaque membre de l’équipe. Tous les membres sont censés contribuer au développement. Bien que chaque membre puisse effectuer différentes tâches, vous devez vous efforcer d’obtenir une répartition égale du travail. Soyez précis ! N'indiquez pas seulement : travail réparti équitablement"
   ]
  },
  {
   "cell_type": "markdown",
   "metadata": {
    "id": "5X-PSr1eA5TF"
   },
   "source": [
    "### Objectif du TP\n",
    "\n",
    "L'objectif de ce TP est d'entraîner un modèle de plongements lexicaux qui intègre des notions de synonymie et d'antonymie en utilisant des réseaux de neurones.\n",
    "\n",
    "Contrairement aux plongements vus en cours comme GloVe ou Word2Vec, qui positionnent souvent les mots à proximité équivalente de leurs synonymes et antonymes, nous chercherons à faire distinguer à nos modèles les synonymes et antonymes, en rapprochant les mots de leurs synonymes et en les éloignant de leurs antonymes.\n",
    "\n",
    "### Jeux de données\n",
    "\n",
    "**Paires de synonymes et antonymes** (entraînement) : Les fichiers `train_synonyms.txt` et `train_antonymms.txt` contiennent les paires de synonymes et d'antonymes qui serviront à l'entraînement de nos modèles.\n",
    "- train_synonyms: ~640k paires de synonymes\n",
    "- train_antonyms: ~12k paires d'antonymes\n",
    "\n",
    "**SimLex-999** (test) : Le fichier `simlex_english.txt` contient 1000 paires de mots et leur similarité entre 0 et 10. Des antonymes auront une similarité de 0 et des mots proches auront une similarité plus élevée. Par exemples :\n",
    "\n",
    "- *nice* & *cruel* -> 0\n",
    "- *violent* & *angry* -> 5.9\n",
    "- *essential* & *necessary* -> 9.8\n",
    "\n",
    "### Développement du TP\n",
    "\n",
    "Le TP suivra les étapes suivantes:\n",
    "\n",
    "- Partie 1 : Familiarisation avec GloVe, modèle de plongements de mots pré-entraîné\n",
    "- Partie 2 : Évaluation de GloVe sur SimLex-999\n",
    "- Partie 3 : Mise en place de la méthode d'entraînement\n",
    "- Partie 4 : Entraînement de zéro (baseline)\n",
    "- Partie 5 : Entraînement utilisant GloVe pré-entraîné et conclusion\n",
    "\n",
    "Le TP est noté sur 89 points."
   ]
  },
  {
   "cell_type": "markdown",
   "metadata": {
    "id": "qGFXFfphA5TG"
   },
   "source": [
    "### Librairies autorisées\n",
    "\n",
    "+ numpy\n",
    "+ pandas\n",
    "+ torch\n",
    "+ matplotlib\n",
    "\n",
    "Si vous voulez utiliser une autre librairie, veuillez demander à votre chargé de lab.\n",
    "\n",
    "### Imports\n",
    "\n",
    "Les imports effectués dans la cellule suivante devraient être suffisants pour faire tout ce TP."
   ]
  },
  {
   "cell_type": "code",
   "execution_count": 1,
   "metadata": {
    "id": "tK8LWX66A5TH"
   },
   "outputs": [],
   "source": [
    "#!pip install numpy\n",
    "#!pip install pandas\n",
    "#!pip install torch\n",
    "#!pip install matplotlib\n",
    "#!pip install torch torchvision torchaudio\n",
    "\n"
   ]
  },
  {
   "cell_type": "code",
   "execution_count": 6,
   "metadata": {
    "id": "b4DDzqYkA5TH"
   },
   "outputs": [],
   "source": [
    "from tqdm import tqdm\n",
    "import gc\n",
    "\n",
    "import numpy as np\n",
    "import pandas as pd\n",
    "import matplotlib.pyplot as plt\n",
    "\n",
    "import torch\n",
    "import torch.nn as nn\n",
    "import torch.nn.functional as F\n",
    "import torch.optim as optim\n",
    "from torch.utils.data import DataLoader"
   ]
  },
  {
   "cell_type": "markdown",
   "metadata": {
    "id": "MmOOdUmHA5TI"
   },
   "source": [
    "### 1. GloVe (10 Points)"
   ]
  },
  {
   "cell_type": "markdown",
   "metadata": {
    "id": "wI-aqLaqA5TJ"
   },
   "source": [
    "Dans ce TP, nous allons utiliser le modèle pré-entraîné GloVe qui crée des plongements lexicaux de mots."
   ]
  },
  {
   "cell_type": "markdown",
   "metadata": {
    "id": "3dU-7kxoA5TK"
   },
   "source": [
    "#### 1.1 Chargement du modèle\n",
    "\n",
    "La cellule suivante permet charger le modèle GloVe pré-entraîné. Le chargement du modèle peut prendre quelques minutes."
   ]
  },
  {
   "cell_type": "code",
   "execution_count": 2,
   "metadata": {
    "colab": {
     "base_uri": "https://localhost:8080/"
    },
    "id": "v3Sb8MHUA5TK",
    "outputId": "f9ef6a3a-3548-455f-816c-53ee5f24fb37"
   },
   "outputs": [
    {
     "name": "stdout",
     "output_type": "stream",
     "text": [
      "--2024-10-10 14:10:50--  http://nlp.stanford.edu/data/glove.42B.300d.zip\n",
      "Resolving nlp.stanford.edu (nlp.stanford.edu)... 171.64.67.140\n",
      "Connecting to nlp.stanford.edu (nlp.stanford.edu)|171.64.67.140|:80... connected.\n",
      "HTTP request sent, awaiting response... 302 Found\n",
      "Location: https://nlp.stanford.edu/data/glove.42B.300d.zip [following]\n",
      "--2024-10-10 14:10:50--  https://nlp.stanford.edu/data/glove.42B.300d.zip\n",
      "Connecting to nlp.stanford.edu (nlp.stanford.edu)|171.64.67.140|:443... connected.\n",
      "HTTP request sent, awaiting response... 301 Moved Permanently\n",
      "Location: https://downloads.cs.stanford.edu/nlp/data/glove.42B.300d.zip [following]\n",
      "--2024-10-10 14:10:51--  https://downloads.cs.stanford.edu/nlp/data/glove.42B.300d.zip\n",
      "Resolving downloads.cs.stanford.edu (downloads.cs.stanford.edu)... 171.64.64.22\n",
      "Connecting to downloads.cs.stanford.edu (downloads.cs.stanford.edu)|171.64.64.22|:443... connected.\n",
      "HTTP request sent, awaiting response... 200 OK\n",
      "Length: 1877800501 (1.7G) [application/zip]\n",
      "Saving to: ‘/content/glove.42B.300d.zip’\n",
      "\n",
      "glove.42B.300d.zip  100%[===================>]   1.75G  3.61MB/s    in 21m 33s \n",
      "\n",
      "2024-10-10 14:32:24 (1.39 MB/s) - ‘/content/glove.42B.300d.zip’ saved [1877800501/1877800501]\n",
      "\n",
      "Archive:  /content/glove.42B.300d.zip\n",
      "  inflating: /content/glove.42B.300d.txt  \n"
     ]
    }
   ],
   "source": [
    "# Décommenter pour télécharger les GloVe embeddings à partir de https://nlp.stanford.edu/projects/glove/\n",
    "!wget http://nlp.stanford.edu/data/glove.42B.300d.zip -P /content\n",
    "!unzip /content/glove.42B.300d.zip -d /content"
   ]
  },
  {
   "cell_type": "code",
   "execution_count": 7,
   "metadata": {
    "id": "kM74KYpxA5TL"
   },
   "outputs": [],
   "source": [
    "\n",
    "data_root = '/content'\n",
    "\n",
    "pretrained_model_path = f\"{data_root}/glove.42B.300d.txt\"\n",
    "train_synonyms_path = f\"{data_root}/train_synonyms.txt\"\n",
    "train_antonyms_path = f\"{data_root}/train_antonyms.txt\"\n",
    "\n",
    "eval_simlex = f'{data_root}/simlex_english.txt'"
   ]
  },
  {
   "cell_type": "code",
   "execution_count": 8,
   "metadata": {
    "id": "g45ZoEXjA5TM"
   },
   "outputs": [],
   "source": [
    "def load_word_vectors(filepath, vocab=None):\n",
    "    \"\"\"\n",
    "    Télécharge le modèle pré-entraîné de plongements de mots en pytorch\n",
    "    \"\"\"\n",
    "    word_to_index = {}\n",
    "    embeddings = []\n",
    "    index = 0\n",
    "\n",
    "    with open(filepath, 'r', encoding='utf-8') as f:\n",
    "        for line in f:\n",
    "            split_line = line.split()\n",
    "            word = split_line[0]\n",
    "            if vocab is None or word in vocab:\n",
    "                embedding = np.array(split_line[1:], dtype=np.float32)\n",
    "                word_to_index[word] = index\n",
    "                embeddings.append(embedding)\n",
    "                index += 1\n",
    "\n",
    "    embeddings = np.stack(embeddings)\n",
    "    embeddings = torch.from_numpy(embeddings)\n",
    "    return word_to_index, embeddings"
   ]
  },
  {
   "cell_type": "code",
   "execution_count": 9,
   "metadata": {
    "id": "OhLMEWpeA5TM"
   },
   "outputs": [],
   "source": [
    "word_to_index, embeddings = load_word_vectors(pretrained_model_path)"
   ]
  },
  {
   "cell_type": "markdown",
   "metadata": {
    "id": "pzEz6Kz7A5TM"
   },
   "source": [
    "#### 1.2 Implémentez la fonction `cosine_similarity` avec pytorch et sans utiliser `torch.nn.CosineSimilarity` (2 points)"
   ]
  },
  {
   "cell_type": "code",
   "execution_count": 10,
   "metadata": {
    "id": "6HVa0QsXA5TN"
   },
   "outputs": [],
   "source": [
    "def cosine_similarity(a: torch.Tensor, b: torch.Tensor) -> torch.Tensor:\n",
    "    \"\"\"\n",
    "    Calcule la matrice de similarité cosinus entre deux matrices.\n",
    "\n",
    "    Args:\n",
    "        a   : torch.Tensor, shape=(n, d)  # Matrice d'embeddings pour n vecteurs de dimension d\n",
    "        b   : torch.Tensor, shape=(m, d)  # Matrice d'embeddings pour m vecteurs de dimension d\n",
    "\n",
    "    Returns:\n",
    "        torch.Tensor, shape=(n, m)  # Matrice de similarité cosinus entre a et b\n",
    "    \"\"\"\n",
    "\n",
    "    # Éviter la division par zéro en ajoutant une petite valeur epsilon\n",
    "    #epsilon = 1e-10\n",
    "\n",
    "    # Calcul des normes\n",
    "    a_norm = a.norm(dim=1, keepdim=True)  # Normalisation de a\n",
    "    b_norm = b.norm(dim=1, keepdim=True)  # Normalisation de b\n",
    "\n",
    "    # Normalisation des vecteurs\n",
    "    a_normalized = a / a_norm  # Vecteurs normalisés de a\n",
    "    b_normalized = b / b_norm  # Vecteurs normalisés de b\n",
    "\n",
    "    # Calcul de la matrice de similarité cosinus via produit matriciel\n",
    "    return torch.mm(a_normalized, b_normalized.T)  # Produit matriciel entre a_normalized et b_normalized transposé\n"
   ]
  },
  {
   "cell_type": "markdown",
   "metadata": {
    "id": "xQUNqPkPA5TN"
   },
   "source": [
    "#### 1.3 Complétez la fonction `n_closest_vect` qui retourne les n mots les plus proches d'un mot donné. (5 points)\n",
    "\n",
    "`n_closest_vect` prendra en entrée la matrice des plongements `embeddings`, le dictionnaire de correspondance entre les mots et les indices `word_to_index`, le plongement d'un mot `word` et le nombre `n` de mots attendus. La fonction devra retourner la liste des mots dont les plongements sont les plus proches du vecteur de référence et leur similarité cosinus.\n",
    "\n",
    "C'est-à-dire les n mots avec lesquels le mot a la plus grande similarité cosinus. Utilisez la fonction `cosine_similarity` que vous venez d'implémenter."
   ]
  },
  {
   "cell_type": "code",
   "execution_count": 11,
   "metadata": {
    "id": "IRMmXlo7A5TN"
   },
   "outputs": [],
   "source": [
    "def n_closest_vect(embeddings: torch.Tensor, word_to_index: dict, word: torch.Tensor, n: int = 5) -> list:\n",
    "    \"\"\"\n",
    "    Trouve les n mots les plus proches du vecteur donné et leur similarité.\n",
    "\n",
    "    Args:\n",
    "        embeddings      : torch.Tensor, shape=(vocab_size, embedding_dim)\n",
    "                          Matrice de plongement de tous les mots.\n",
    "\n",
    "        word_to_index   : dict\n",
    "                          Dictionnaire qui relie un mot à son index dans le vocabulaire.\n",
    "\n",
    "        word            : torch.Tensor, shape=(embedding_dim,)\n",
    "                          Plongement du mot dont on cherche les n mots les plus proches.\n",
    "\n",
    "        n               : int, optional, default=5\n",
    "                          Nombre de mots à retourner.\n",
    "\n",
    "    Returns:\n",
    "        list: Liste de tuples contenant les n mots les plus similaires avec leur coefficient\n",
    "              de similarité.\n",
    "    \"\"\"\n",
    "    # Calculer les similarités entre le mot donné et tous les autres mots\n",
    "    similarities = cosine_similarity(word.unsqueeze(0), embeddings)\n",
    "\n",
    "    # Obtenir les n similarités les plus élevées et leurs indices correspondants\n",
    "    top_n_similarities, top_n_indices = torch.topk(similarities.squeeze(0), n)\n",
    "\n",
    "    # Créer une liste pour stocker les mots les plus similaires et leurs similarités\n",
    "    mots_proches= []\n",
    "\n",
    "    for i in range(n):\n",
    "        # Récupérer le mot correspondant à l'indice et sa similarité\n",
    "        similar_word = list(word_to_index.keys())[top_n_indices[i].item()]\n",
    "        similarity_score = top_n_similarities[i].item()\n",
    "        mots_proches.append((similar_word, similarity_score))\n",
    "\n",
    "    return mots_proches\n"
   ]
  },
  {
   "cell_type": "code",
   "execution_count": 12,
   "metadata": {
    "colab": {
     "base_uri": "https://localhost:8080/"
    },
    "id": "NyJqBvgVA5TN",
    "outputId": "3c2566ae-6b56-4165-f914-e417b103dd5e"
   },
   "outputs": [
    {
     "name": "stdout",
     "output_type": "stream",
     "text": [
      "[('morning', 1.0), ('afternoon', 0.8665473461151123), ('evening', 0.7880070209503174), ('yesterday', 0.7614548206329346), ('sunday', 0.7548925876617432)]\n"
     ]
    }
   ],
   "source": [
    "# Exemple\n",
    "print(n_closest_vect(embeddings, word_to_index, embeddings[word_to_index['morning']]))"
   ]
  },
  {
   "cell_type": "markdown",
   "metadata": {
    "id": "gSNw3PihA5TN"
   },
   "source": [
    "Sortie attendue :\n",
    "```\n",
    "[('morning', 1.0), ('afternoon', 0.8665473461151123), ('evening', 0.7880070209503174), ('yesterday', 0.7614548206329346), ('sunday', 0.7548925876617432)]\n",
    "```"
   ]
  },
  {
   "cell_type": "markdown",
   "metadata": {
    "id": "TyDZ9FESA5TN"
   },
   "source": [
    "#### 1.4 Quelle est la similarité cosinus entre 'fast' et 'slow' ? Entre 'fast' et 'rapid' ? Commentez les résultats et expliquez leur origine. (3 points)"
   ]
  },
  {
   "cell_type": "code",
   "execution_count": 14,
   "metadata": {
    "colab": {
     "base_uri": "https://localhost:8080/"
    },
    "id": "rBY_bS3gA5TN",
    "outputId": "2b2009d1-afcc-4ec2-f878-e9b9313fe9e9"
   },
   "outputs": [
    {
     "name": "stdout",
     "output_type": "stream",
     "text": [
      "Similarité cosinus entre 'fast' et 'slow': 0.7113727331161499\n",
      "Similarité cosinus entre 'fast' et 'rapid': 0.6445335149765015\n",
      "\"\n",
      "la similarité cosinus élevée entre 'Fast' et 'slow' montre que les deux mots bien que antonymes sont utilisés dans des\n",
      "contextes similaires dans notre corpus.\n",
      "\n",
      "\"\n",
      "Tandis que la similarité cosinus un peu moins élevée entre 'Fast' et 'rapid' confirme que les deux mots sont proches sur le plan sémantique mais\n",
      "apparaissent moins que les deux précédents dans notre contexte.\n",
      "\n"
     ]
    }
   ],
   "source": [
    "# TODO\n",
    "similarity_fast_slow = cosine_similarity(embeddings[word_to_index['fast']].unsqueeze(0), embeddings[word_to_index['slow']].unsqueeze(0))\n",
    "print(\"Similarité cosinus entre 'fast' et 'slow':\", similarity_fast_slow.item())\n",
    "\n",
    "similarity_fast_rapid = cosine_similarity(embeddings[word_to_index['fast']].unsqueeze(0), embeddings[word_to_index['rapid']].unsqueeze(0))\n",
    "print(\"Similarité cosinus entre 'fast' et 'rapid':\", similarity_fast_rapid.item())\n",
    "\n",
    "analyse_a=\"\"\"\"\n",
    "la similarité cosinus élevée entre 'Fast' et 'slow' montre que les deux mots bien que antonymes sont utilisés dans des\n",
    "contextes similaires dans notre corpus.\n",
    "\"\"\"\n",
    "\n",
    "analyse_b=\"\"\"\"\n",
    "Tandis que la similarité cosinus un peu moins élevée entre 'Fast' et 'rapid' confirme que les deux mots sont proches sur le plan sémantique mais\n",
    "apparaissent moins que les deux précédents dans notre contexte.\n",
    "\"\"\"\n",
    "\n",
    "print(analyse_a)\n",
    "print(analyse_b)\n",
    "\n",
    "# END TODO"
   ]
  },
  {
   "cell_type": "markdown",
   "metadata": {
    "id": "7ftXpgZIA5TO"
   },
   "source": [
    "### 2. Évaluation (12 Points)\n",
    "\n",
    "#### Données\n",
    "\n",
    "Les cellules qui suivent permettent de télécharger les données et de se restreindre au vocabulaire qui nous sera utile, pour éviter de charger des plongements inutiles.\n",
    "\n",
    "Comme décrit dans l'introduction, nous avons 3 fichiers de données:\n",
    "- Des paires de synonymes pour l'entraînement (`train_synonyms.txt`)\n",
    "- Des paires d'antonymes pour l'entraînement (`train_antonymms.txt`)\n",
    "- Des paires de mots avec leur similarité pour l'évaluation (`simlex_english.txt`)"
   ]
  },
  {
   "cell_type": "code",
   "execution_count": 15,
   "metadata": {
    "id": "Te69XqFVA5TO"
   },
   "outputs": [],
   "source": [
    "def load_data(filepath):\n",
    "    \"\"\"\n",
    "    Télécharge les paires de synonymes et antonymes\n",
    "    \"\"\"\n",
    "    data = []\n",
    "    with open(filepath, 'r', encoding='utf-8') as f:\n",
    "        for line in f:\n",
    "            pair = line.strip().split()\n",
    "            assert pair[0].startswith('en_') and pair[0].startswith('en_')\n",
    "            data.append((pair[0][3:], pair[1][3:]))\n",
    "    return data\n",
    "\n",
    "def data_to_tensor(data, word_to_index):\n",
    "    indices = [word_to_index[word] for pair in data for word in pair if word in word_to_index]\n",
    "    return torch.tensor(indices).view(-1, 2)"
   ]
  },
  {
   "cell_type": "code",
   "execution_count": 16,
   "metadata": {
    "id": "0_fSE2lxA5TO"
   },
   "outputs": [],
   "source": [
    "# Données d'entraînement\n",
    "train_synonyms = load_data(train_synonyms_path)\n",
    "train_antonyms = load_data(train_antonyms_path)\n",
    "\n",
    "# Données d'évaluation\n",
    "evaluation_simlex = pd.read_csv(eval_simlex, sep='\\t') # pd dataframe with columns 'word 1', 'word 2', 'score'\n",
    "\n",
    "# On se restreint au vocabulaire qu'on va utiliser pour éviter de charger des embeddings inutiles\n",
    "vocab = set([word for pair in train_synonyms + train_antonyms for word in pair])\n",
    "eval_vocab = set(evaluation_simlex['word 1']).union(set(evaluation_simlex['word 2']))\n",
    "vocab.update(eval_vocab)\n",
    "\n",
    "glove_word_to_index, glove_embeddings = load_word_vectors(pretrained_model_path, vocab)"
   ]
  },
  {
   "cell_type": "markdown",
   "metadata": {
    "id": "6dXSZvo0A5TO"
   },
   "source": [
    "#### 2.1 Observation du jeu de données SimLex-999. (2 points)\n",
    "\n",
    "Affichez l'histogramme de fréquence des scores de similarité dans le jeu de données SimLex-999. Utilisez `bins=40`. Votre axe des x doit représenter le score de similarité et votre axe des y doit représenter la fréquence. Comment interpréter un score de 0?"
   ]
  },
  {
   "cell_type": "code",
   "execution_count": 17,
   "metadata": {
    "colab": {
     "base_uri": "https://localhost:8080/",
     "height": 585
    },
    "id": "Qof818W-A5TP",
    "outputId": "36034187-3c9b-4244-890d-21bb12934e60"
   },
   "outputs": [
    {
     "data": {
      "image/png": "[encoded data removed]",
      "text/plain": [
       "<Figure size 1000x600 with 1 Axes>"
      ]
     },
     "metadata": {},
     "output_type": "display_data"
    }
   ],
   "source": [
    "# TODO\n",
    "# Histogramme des scores de similarité\n",
    "plt.figure(figsize=(10, 6))\n",
    "plt.hist(evaluation_simlex['score'], bins=40, edgecolor='black')\n",
    "plt.xlabel('Score de similarité')\n",
    "plt.ylabel('Fréquence')\n",
    "plt.title('Histogramme de fréquence des scores de similarité dans SimLex-999')\n",
    "plt.grid(axis='y', alpha=0.75)\n",
    "plt.show()\n",
    "# END TODO"
   ]
  },
  {
   "cell_type": "markdown",
   "metadata": {
    "id": "77bY0Ta5A5TP"
   },
   "source": [
    "#### 2.2 Corrélation de Spearman\n",
    "\n",
    "\n",
    "La corrélation de Spearman est une mesure de la relation monotone entre deux variables $x$ et $y$. Elle est comprise entre -1 et 1. Plutôt que de comparer les valeurs brutes des variables, elle compare leurs rangs. Elle est calculée comme suit :\n",
    "$$\\rho (x, y) = 1 - \\frac{6 \\sum_{i=1}^n (r_{x_i} - r_{y_i})^2}{n(n^2 - 1)}$$\n",
    "où $r_{x_i}$ est le rang de la i-ème valeur de la variable x, $r_{y_i}$ est le rang de la i-ème valeur de la variable y, $n$ est le nombre total de paires d'observations $(x, y)$.\n",
    "\n",
    "Les rangs sont attribués en ordonnant les valeurs de chaque variable du plus petit au plus grand. La plus petite valeur reçoit le rang 1, la suivante le rang 2, et ainsi de suite.\n",
    "\n",
    "##### Expliquez pourquoi on utilise la corrélation de Spearman plutôt que la corrélation entre les valeurs des variables. (3 points)\n"
   ]
  },
  {
   "cell_type": "code",
   "execution_count": 18,
   "metadata": {
    "colab": {
     "base_uri": "https://localhost:8080/"
    },
    "id": "LZ4SK_uWA5TP",
    "outputId": "88d045b8-5601-449b-e7ba-61bec421b5e7"
   },
   "outputs": [
    {
     "name": "stdout",
     "output_type": "stream",
     "text": [
      "\"\n",
      "La corrélation de Spearman utilise les rangs des variables plutôt que les valeurs de ces varaibles. Ceci étant, on est moins sensible aux données extrèmes.\n",
      "D'autre part, les données sur lesquelles le TP est basé ne suivent pas forcément une distribution normale donc utiliser les rangs plutôt que les valeurs est également un avantage.\n",
      "Enfin c'est une corrélation qui utilise les rangs donc c'est possible de travailler sur des données avec des types non communs et données ordinales.\n",
      "\n",
      "\n"
     ]
    }
   ],
   "source": [
    "analyse_spearman=\"\"\"\"\n",
    "La corrélation de Spearman utilise les rangs des variables plutôt que les valeurs de ces varaibles. Ceci étant, on est moins sensible aux données extrèmes.\n",
    "D'autre part, les données sur lesquelles le TP est basé ne suivent pas forcément une distribution normale donc utiliser les rangs plutôt que les valeurs est également un avantage.\n",
    "Enfin c'est une corrélation qui utilise les rangs donc c'est possible de travailler sur des données avec des types non communs et données ordinales.\n",
    "\n",
    "\"\"\"\n",
    "\n",
    "print(analyse_spearman)"
   ]
  },
  {
   "cell_type": "markdown",
   "metadata": {
    "id": "eOGyjdyOA5TP"
   },
   "source": [
    "#### 2.3 Implémentation de la corrélation de Spearman (2 points)\n",
    "\n",
    "Complétez la fonction suivante pour calculer la corrélation de Spearman entre deux listes de valeurs."
   ]
  },
  {
   "cell_type": "code",
   "execution_count": 19,
   "metadata": {
    "id": "-0oA8fWDA5TQ"
   },
   "outputs": [],
   "source": [
    "def spearman_rank_correlation(x, y):\n",
    "    \"\"\"\n",
    "    Calcule la corrélation de Spearman entre deux listes de valeurs.\n",
    "\n",
    "    Args:\n",
    "        x   : list of float\n",
    "        y   : list of float\n",
    "\n",
    "    Returns:\n",
    "    La corrélation de Spearman entre les deux listes (float).\n",
    "    \"\"\"\n",
    "\n",
    "\n",
    "\n",
    "    # TODO\n",
    "       # Vérifier que les listes ont la même longueur\n",
    "    if len(x) != len(y):\n",
    "        raise ValueError(\"Les listes doivent avoir la même longueur.\")\n",
    "\n",
    "    # Conversion des listes en tableaux numpy\n",
    "    x = np.array(x)\n",
    "    y = np.array(y)\n",
    "\n",
    "    # Calcul des rangs\n",
    "    rank_x = np.argsort(np.argsort(x))\n",
    "    rank_y = np.argsort(np.argsort(y))\n",
    "\n",
    "    # Calculer la différence des rangs\n",
    "    d = rank_x - rank_y\n",
    "\n",
    "    # Calculer le coefficient de corrélation de Spearman\n",
    "    n = len(x)\n",
    "    spearman_corr = 1 - (6 * np.sum(d**2)) / (n * (n**2 - 1))\n",
    "\n",
    "    return spearman_corr\n",
    "    # END TODO\n"
   ]
  },
  {
   "cell_type": "markdown",
   "metadata": {
    "id": "pLj1VaIGA5TQ"
   },
   "source": [
    "#### 2.4 Évaluation du modèle GloVe (2 points)\n",
    "\n",
    "\n",
    "Retrouvez les plongements du modèle GloVe de tous les mots du jeu de données SimLex-999, puis calculez la similarité cosinus entre les paires.\n",
    "\n",
    "Calculez ensuite la corrélation de Spearman entre les scores de simlex et les similarités cosinus obtenues et affichez-la."
   ]
  },
  {
   "cell_type": "code",
   "execution_count": 20,
   "metadata": {
    "colab": {
     "base_uri": "https://localhost:8080/"
    },
    "id": "ogmLUqPsA5TQ",
    "outputId": "969ce8f7-ac92-4abb-972b-6db740d35f4b"
   },
   "outputs": [
    {
     "name": "stdout",
     "output_type": "stream",
     "text": [
      "Corrélation de Spearman entre les scores de SimLex-999 et les similarités cosinus : 0.29\n"
     ]
    }
   ],
   "source": [
    "# TODO\n",
    "# Charger les plongements GloVe\n",
    "\n",
    "\n",
    "\n",
    "\n",
    "# Supposons que votre DataFrame et la fonction cosine_similarity sont déjà définis\n",
    "similarities = []\n",
    "scores = evaluation_simlex['score'].tolist()\n",
    "\n",
    "for _, row in evaluation_simlex.iterrows():\n",
    "    word1 = row['word 1']\n",
    "    word2 = row['word 2']\n",
    "\n",
    "    if word1 in glove_word_to_index and word2 in glove_word_to_index:\n",
    "        vec1 = glove_embeddings[glove_word_to_index[word1]]\n",
    "        vec2 = glove_embeddings[glove_word_to_index[word2]]\n",
    "        sim = cosine_similarity(vec1.unsqueeze(0), vec2.unsqueeze(0))\n",
    "        similarities.append(sim.item())  # Assurez-vous de convertir le résultat tensor en float\n",
    "    else:\n",
    "        similarities.append(np.nan)  # Si un mot n'est pas dans les embeddings\n",
    "\n",
    "# Calcul de la corrélation de Spearman\n",
    "spearman_corr = spearman_rank_correlation(scores, similarities)\n",
    "\n",
    "# Affichage du résultat\n",
    "print(f\"Corrélation de Spearman entre les scores de SimLex-999 et les similarités cosinus : {spearman_corr:.2f}\")\n",
    "# END TODO"
   ]
  },
  {
   "cell_type": "markdown",
   "metadata": {
    "id": "pTLqJocmA5TQ"
   },
   "source": [
    "Résultat attendu: 0.29"
   ]
  },
  {
   "cell_type": "markdown",
   "metadata": {
    "id": "IKTGxNo1A5TQ"
   },
   "source": [
    "#### 2.5 Interprétation du résultat (3 points)\n",
    "\n",
    "Qu'est ce que ce nombre représente et que peut-on en conclure sur la qualité des plongements GloVe (2 conclusions) ?"
   ]
  },
  {
   "cell_type": "code",
   "execution_count": 21,
   "metadata": {
    "colab": {
     "base_uri": "https://localhost:8080/"
    },
    "id": "412_w1GaA5TQ",
    "outputId": "01258aaf-0069-4508-90dc-be3ca8e4428b"
   },
   "outputs": [
    {
     "name": "stdout",
     "output_type": "stream",
     "text": [
      "\n",
      "                            I1- Faible adéquation avec la perception humaine : Une corrélation de Spearman de 0.29 suggère que,\n",
      "                            bien que les plongements GloVe capturent une certaine dimension de la similarité sémantique perçue par les humains,\n",
      "                            la relation n'est pas très forte. Cela peut indiquer que les plongements GloVe ne captent pas entièrement les nuances de la similarité\n",
      "                            sémantique telles que perçues par les humains.\n",
      "\n",
      "                            I2- La faible corrélation peut motiver la recherche et le développement de modèles de plongement plus sophistiqués ou spécialement adaptés\n",
      "                            pour capturer des aspects spécifiques de la sémantique qui sont importants.\n",
      "                        \n"
     ]
    }
   ],
   "source": [
    "interpretation_spearman= \"\"\"\n",
    "                            I1- Faible adéquation avec la perception humaine : Une corrélation de Spearman de 0.29 suggère que,\n",
    "                            bien que les plongements GloVe capturent une certaine dimension de la similarité sémantique perçue par les humains,\n",
    "                            la relation n'est pas très forte. Cela peut indiquer que les plongements GloVe ne captent pas entièrement les nuances de la similarité\n",
    "                            sémantique telles que perçues par les humains.\n",
    "\n",
    "                            I2- La faible corrélation peut motiver la recherche et le développement de modèles de plongement plus sophistiqués ou spécialement adaptés\n",
    "                            pour capturer des aspects spécifiques de la sémantique qui sont importants.\n",
    "                        \"\"\"\n",
    "print(interpretation_spearman)"
   ]
  },
  {
   "cell_type": "markdown",
   "metadata": {
    "id": "Lfxbg9tZA5TR"
   },
   "source": [
    "### 3. Description de la méthode contrastive (33 Points)\n",
    "\n",
    "Nous allons maintenant implémenter une méthode contrastive de plongements de mots. Elle vise à améliorer les plongements lexicaux de mots en tenant compte des synonymes et antonymes.\n",
    "\n",
    "Notre modèle se basera simplement sur une matrice de plongements de mots, qui associe à chaque mot un vecteur de plongement.\n",
    "\n",
    "L'idée est d'entraîner ce modèle à rapprocher les plongements de synonymes et d'éloigner ceux d'antonymes.\n",
    "\n",
    "La cellule suivante définit le modèle et ses attributs."
   ]
  },
  {
   "cell_type": "code",
   "execution_count": 22,
   "metadata": {
    "id": "INNAuMv9A5TR"
   },
   "outputs": [],
   "source": [
    "class ContrastiveWordEmbeddingModel(nn.Module):\n",
    "    def __init__(self, embeddings, device='cpu', margin_plus=0.6, margin_minus=0., regularization=1e-9):\n",
    "        super(ContrastiveWordEmbeddingModel, self).__init__()\n",
    "\n",
    "        self.device = device\n",
    "\n",
    "        # Hyperparamètres pour les fonctions de coût\n",
    "        self.margin_plus = margin_plus\n",
    "        self.margin_minus = margin_minus\n",
    "        self.regularization = regularization\n",
    "\n",
    "        # Initialisation des plongements de mots\n",
    "        self.embeddings = nn.Embedding.from_pretrained(embeddings.detach().clone(), freeze=False).to(self.device)\n",
    "        self.original_embeddings = nn.Embedding.from_pretrained(embeddings.detach().clone(), freeze=True).to(self.device)\n"
   ]
  },
  {
   "cell_type": "markdown",
   "metadata": {
    "id": "9_L6utKvA5TR"
   },
   "source": [
    "#### 3.1 Création des négatifs\n",
    "\n",
    "Pendant l'entraînement, au lieu de traiter tout le jeu d'entraînement d'un coup, nous allons avoir des lots (batchs) de paires de synonymes $B_S$ et d'antonymes $B_A$.\n",
    "\n",
    "Dans un lot de synonymes, on définit le négatif d'un mot comme le mot du lot le plus proche qui n'est pas dans la même paire. Intuitivement, c'est le mot que le modèle devrait confondre le plus avec le synonyme. Similairement, dans un lot d'antonymes, on définit le négatif d'un mot comme le mot du lot le plus éloigné qui n'est pas dans la même paire.\n",
    "\n",
    "On répète ce processus pour chaque mot de chaque paire de synonymes et d'antonymes.\n",
    "\n",
    "*Attention, un mot peut apparaître plusieurs fois dans un lot avec des synonymes ou antonymes différents, et il ne peut être le négatif d'aucun de ses synonymes, ou antonymes.*\n",
    "\n",
    "##### 3.1.1 Exemple pour illustrer l'implémentation\n",
    "\n",
    "Prenons un exemple avec un lot $B_S$ de synonymes de taille 3. On veut construire le lot de négatifs $T_S$\n",
    "\n",
    "$B_S$:\n",
    "- (arbre, plante)\n",
    "- (voiture, véhicule)\n",
    "- (arbre, buisson)\n",
    "\n",
    "On a 5 mots uniques dans le lot: arbre, plante, voiture, véhicule, buisson. Supposons que la matrice de similarité cosinus soit la suivante :\n",
    "\n",
    "|       | arbre | plante | voiture | véhicule | buisson |\n",
    "|-------|-------|--------|--------|----------|---------|\n",
    "| arbre | 1     | 0.8    | 0.1    | 0.2      | 0.9     |\n",
    "| plante| 0.8   | 1      | 0.3    | 0.4      | 0.7     |\n",
    "| voiture| 0.1  | 0.3    | 1      | 0.9      | 0.2     |\n",
    "| véhicule| 0.2 | 0.4    | 0.9    | 1        | 0.3     |\n",
    "| buisson| 0.9  | 0.7    | 0.2    | 0.3      | 1       |\n",
    "\n",
    "\n",
    "On commence par calculer les voisins de chaque mot du lot $B_S$. Le voisin d'un mot $m$ est défini comme tout mot qui apparait dans au moins une paire avec $m$ dans $B_S$. Un mot est aussi considéré comme son propre voisin.\n",
    "\n",
    "- voisins de arbre : arbre, plante, buisson\n",
    "- voisins de plante : plante, arbre\n",
    "- voisins de voiture : voiture, véhicule\n",
    "- voisins de véhicule : véhicule, voiture\n",
    "- voisins de buisson : buisson, arbre\n",
    "\n",
    "Après avoir masqué les voisins, la matrice est :\n",
    "\n",
    "|       | arbre | plante | voiture | véhicule | buisson |\n",
    "|-------|-------|--------|--------|----------|---------|\n",
    "| arbre | -inf  | -inf   | 0.1    | 0.2      | -inf    |\n",
    "| plante| -inf  | -inf   | 0.3    | 0.4      | 0.7     |\n",
    "| voiture| 0.1  | 0.3    | -inf   | -inf     | 0.2     |\n",
    "| véhicule| 0.2 | 0.4    | -inf   | -inf     | 0.3     |\n",
    "| buisson| -inf | 0.7    | 0.2    | 0.3      | -inf    |\n",
    "\n",
    "Pour calculer les négatifs, on prend le maximum de chaque ligne (donc le mot le plus similaire qui n'est pas un voisin) :\n",
    "\n",
    "Ici,\n",
    "- le négatif d'arbre est véhicule\n",
    "- le négatif de plante est buisson\n",
    "- le négatif de voiture est plante\n",
    "- le négatif de véhicule est plante\n",
    "- le négatif de buisson est plante\n",
    "\n",
    "En reprenant le batch $B_S$:\n",
    "- (arbre, plante)\n",
    "- (voiture, véhicule)\n",
    "- (arbre, buisson)\n",
    "\n",
    "$T_S$ sera composé de paires composées du négatif de chaque élément de $B_S$ :\n",
    "\n",
    "$B_S$ -> $T_S$\n",
    "- (arbre, plante) $\\rightarrow$ (véhicule, buisson), car le négatif d'arbre est véhicule et le négatif de plante est buisson\n",
    "- (voiture, véhicule) $\\rightarrow$ (plante, plante), car le négatif de voiture est plante et le négatif de véhicule est plante\n",
    "- (arbre, buisson) $\\rightarrow$ (véhicule, plante), car le négatif d'arbre est véhicule et le négatif de buisson est plante\n",
    "\n",
    "$T_S$ sera donc :\n",
    "- (véhicule, buisson)\n",
    "- (plante, plante)\n",
    "- (véhicule, plante)"
   ]
  },
  {
   "cell_type": "markdown",
   "metadata": {
    "id": "R0bjM3RkA5TR"
   },
   "source": [
    "##### 3.1.2 Implémentez la fonction `prepare_neighbors` qui renvoit la liste des voisins de chaque mot dans le lot. (4 points)\n",
    "\n",
    "Les voisins d'un mot $m$ sont tous les mots du lot qui apparaissent dans au moins une paire avec $m$. Utilisez les bons indices (indice dans la matrice d'embeddings et indice dans le lot). Le résultat est une liste de liste de voisins, où `neighbors[i]` est la liste des voisins du mot `i` dans le lot."
   ]
  },
  {
   "cell_type": "code",
   "execution_count": 23,
   "metadata": {
    "id": "PqZMScQuA5TR"
   },
   "outputs": [],
   "source": [
    "def prepare_neighbors(index_pairs, unique_idx, index_to_idx):\n",
    "    \"\"\"\n",
    "    Prépare les voisins pour chaque mot dans les paires de mots.\n",
    "\n",
    "    Args :\n",
    "        index_pairs     : torch.Tensor de seconde dimension 2\n",
    "        Tensor contenant les indices des embeddings des mots dans le vocabulaire.\n",
    "        Des indices qui sont reliés ensemble par une ligne dans ce tenseur ont\n",
    "        une relation sémantique entre eux (synonymes ou antonymes).\n",
    "\n",
    "        unique_idx      : set\n",
    "        Ensemble de tous les indices qui sont mentionnés dans la liste `index_pairs`.\n",
    "\n",
    "        index_to_idx    : dict\n",
    "        Dictionnaire associant un indice mentionné dans `index_pairs` à son indice dans\n",
    "        la liste qui sera retournée. Par exemple, si dans ce dictionnaire, la clé 4 est\n",
    "        associée à la valeur 12, cela veut dire que les voisins du mot 4 dans le vocabulaire\n",
    "        seront retournés à l'indice 12 dans la liste de retour.\n",
    "\n",
    "    Returns:\n",
    "    Une liste où chaque élément est une liste des indices des voisins pour chaque mot (l'indice dans la liste correspond à l'indice unique).\n",
    "    \"\"\"\n",
    "    # TODO\n",
    "    # Initialiser la liste des voisins avec des ensembles pour éviter les doublons\n",
    "    neighbors = {idx:[] for idx in range(len(unique_idx))}\n",
    "\n",
    "    # Parcourir chaque paire dans index_pairs\n",
    "    for idx1, idx2 in index_pairs:\n",
    "        # Obtenir les indices dans la liste de retour\n",
    "        mapped_idx1 = index_to_idx[idx1.item()]\n",
    "        mapped_idx2 = index_to_idx[idx2.item()]\n",
    "\n",
    "        neighbors[mapped_idx1].append(mapped_idx1)\n",
    "        neighbors[mapped_idx2].append(mapped_idx2)\n",
    "\n",
    "        # Ajouter mutuellement les indices des voisins\n",
    "        if mapped_idx2 not in neighbors[mapped_idx1]:\n",
    "            neighbors[mapped_idx1].append(mapped_idx2)\n",
    "        if mapped_idx1 not in neighbors[mapped_idx2]:\n",
    "            neighbors[mapped_idx2].append(mapped_idx1)\n",
    "\n",
    "    # Convertir les ensembles en listes pour le retour\n",
    "    return [neighbors[i] for i in sorted(neighbors)]\n",
    "\n",
    "    # END TODO"
   ]
  },
  {
   "cell_type": "code",
   "execution_count": 24,
   "metadata": {
    "colab": {
     "base_uri": "https://localhost:8080/"
    },
    "id": "4Ko1EPHwA5TR",
    "outputId": "bee7aa21-a633-4bf5-cb94-5eac8c6fbcbe"
   },
   "outputs": [
    {
     "name": "stdout",
     "output_type": "stream",
     "text": [
      "[[0, 2], [1, 4], [2, 0, 2, 3], [3, 2], [4, 1]]\n"
     ]
    }
   ],
   "source": [
    "# Exemple\n",
    "\n",
    "index_pairs = torch.tensor([[0, 12], [12, 31], [53, 4]])\n",
    "unique_idx = {0, 4, 12, 31, 53}\n",
    "index_to_idx = {0: 0, 4: 1, 12: 2, 31: 3, 53: 4}\n",
    "print(prepare_neighbors(index_pairs, unique_idx, index_to_idx))\n"
   ]
  },
  {
   "cell_type": "markdown",
   "metadata": {
    "id": "2NO-sfnyA5TR"
   },
   "source": [
    "Réponse attendue\n",
    "\n",
    "`[[0, 2], [1, 4], [2, 0, 2, 3], [3, 2], [4, 1]]`"
   ]
  },
  {
   "cell_type": "markdown",
   "metadata": {
    "id": "Uje6RP6gA5TR"
   },
   "source": [
    "##### 3.1.3 Implémentez la fonction `select_negatives` qui renvoit un dictionnaire qui associe à chaque élément son négatif. (4 points)\n",
    "\n",
    "Pour chaque élément du lot, on cherche le voisin le plus proche qui n'est pas le voisin de l'autre élément de la paire.\n",
    "\n",
    "Utilisez un masque pour cacher, dans la matrice de similarité, les voisins.\n",
    "\n",
    "La fonction utilise un paramètre `synonym` qui indique si on travaille sur un lot de synonymes ou d'antonymes. En cas de synonymes, on cherche le voisin le plus proche qui n'est pas un voisin de l'autre élément de la paire. En cas d'antonymes, on cherche le voisin le plus éloigné qui n'est pas un voisin de l'autre élément de la paire."
   ]
  },
  {
   "cell_type": "code",
   "execution_count": 25,
   "metadata": {
    "id": "l5R9fhZYA5TS"
   },
   "outputs": [],
   "source": [
    "def select_negatives(indices, similarity_matrix, neighbors, synonym=True):\n",
    "    \"\"\"\n",
    "    Sélectionne les exemples négatifs à partir de la matrice de similarité et des voisins.\n",
    "\n",
    "    Args :\n",
    "        indices             : torch.Tensor (vocab_size)\n",
    "        Indices des mots présents dans le vocabulaires\n",
    "\n",
    "        similarity_matrix   : torch.Tensor (vocab_size, vocab_size)\n",
    "        Matrice de similarité entre tous les mots présents dans le vocabulaire.\n",
    "\n",
    "        neighbors           : list of lists\n",
    "        Liste des voisins de chaque mot. Par exemple, le premier élément de la liste\n",
    "        contiendra tous les voisins du mot 0 dans le vocabulaire.\n",
    "\n",
    "        synonym             : bool, optional (default=True)\n",
    "        Indique si l'on cherche des négatifs pour les synonymes (True) ou pour les antonymes (False).\n",
    "\n",
    "    Returns:\n",
    "    Dictionnaire mappant les mots avec leurs indices de négatifs {mot_index: négatif_index}.\n",
    "    \"\"\"\n",
    "\n",
    "    # TODO HINT: Utilisez un mask pour ignorer les voisins\n",
    "    negative_indices = {}\n",
    "\n",
    "    for i, idx in enumerate(indices):\n",
    "        # Masquer les indices des voisins pour éviter de les sélectionner comme négatifs\n",
    "        mask = torch.ones_like(similarity_matrix[i], dtype=torch.bool)\n",
    "        for neighbor in neighbors[i]:\n",
    "            mask[neighbor] = False\n",
    "\n",
    "        if synonym:\n",
    "            # Pour les synonymes, chercher le voisin le plus proche non listé comme voisin\n",
    "            masked_similarities = torch.where(mask, similarity_matrix[i], torch.tensor(float('-inf')).to(similarity_matrix.device))\n",
    "            negative_idx = torch.argmax(masked_similarities).item()\n",
    "        else:\n",
    "            # Pour les antonymes, chercher le voisin le plus éloigné non listé comme voisin\n",
    "            masked_similarities = torch.where(mask, similarity_matrix[i], torch.tensor(float('inf')).to(similarity_matrix.device))\n",
    "            negative_idx = torch.argmin(masked_similarities).item()\n",
    "\n",
    "        negative_indices[idx.item()] = negative_idx\n",
    "\n",
    "    return negative_indices\n",
    "    # END TODO\n"
   ]
  },
  {
   "cell_type": "code",
   "execution_count": 26,
   "metadata": {
    "colab": {
     "base_uri": "https://localhost:8080/"
    },
    "id": "qHhCEqJfA5TS",
    "outputId": "80d57cf5-70a5-4175-ddc0-9c26bf1bd184"
   },
   "outputs": [
    {
     "name": "stdout",
     "output_type": "stream",
     "text": [
      "{0: 1, 1: 3, 2: 4, 3: 1, 4: 2}\n"
     ]
    }
   ],
   "source": [
    "# Exemple\n",
    "\n",
    "indices = torch.tensor([0, 1, 2, 3, 4])\n",
    "neighbors = [[0, 2], [1, 4], [2, 0, 2, 3], [3, 2], [4, 1]]\n",
    "\n",
    "similarity_matrix = torch.tensor([\n",
    "    [ 1.0000, -0.4263, -0.7167, -0.9838, -0.5823],\n",
    "    [-0.4263,  1.0000, -0.1600,  0.5088, -0.3708],\n",
    "    [-0.7167, -0.1600,  1.0000,  0.7247,  0.5631],\n",
    "    [-0.9838,  0.5088,  0.7247,  1.0000,  0.4394],\n",
    "    [-0.5823, -0.3708,  0.5631,  0.4394,  1.0000]\n",
    "    ])\n",
    "\n",
    "print(select_negatives(indices, similarity_matrix, neighbors, synonym=True))"
   ]
  },
  {
   "cell_type": "markdown",
   "metadata": {
    "id": "Kyw-U-eNA5TS"
   },
   "source": [
    "Réponse attendue\n",
    "\n",
    "`{0: 1, 1: 3, 2: 4, 3: 1, 4: 2}`"
   ]
  },
  {
   "cell_type": "markdown",
   "metadata": {
    "id": "kseQ2sV4A5TS"
   },
   "source": [
    "##### 3.1.4 Implémentez la fonction `run_negative_extraction` qui prépare les paires de synonymes et d'antonymes et appelle `prepare_neighbors` et `select_negatives`. (4 points)\n",
    "\n",
    "Préparez les indices uniques des mots du batch, calculez la similarité des mots, et appelez `prepare_neighbors` et `select_negatives`."
   ]
  },
  {
   "cell_type": "code",
   "execution_count": 27,
   "metadata": {
    "id": "4d9siOhLA5TS"
   },
   "outputs": [],
   "source": [
    "def run_negative_extraction(model, index_pairs, synonym=True):\n",
    "    \"\"\"\n",
    "    Extrait les exemples négatifs pour un ensemble de paires de mots.\n",
    "\n",
    "    Args :\n",
    "        index_pairs : torch.Tensor de seconde dimension 2\n",
    "        Contient les indices des mots.\n",
    "\n",
    "        synonym     : bool, optional (default=True)\n",
    "        Indique si l'on cherche des négatifs pour les synonymes (True) ou pour les antonymes (False).\n",
    "\n",
    "    Returns:\n",
    "    Dictionnaire mappant les indices des mots avec leurs indices de négatifs {mot_index: négatif_index}.\n",
    "        \"\"\"\n",
    "    # TODO\n",
    "\n",
    "\n",
    "    # Extraire les indices uniques de toutes les paires\n",
    "    unique_ids = set()\n",
    "    for pair in index_pairs:\n",
    "        unique_ids.update(pair.tolist())\n",
    "\n",
    "    # Convertir les indices uniques en une liste triée et en tensor\n",
    "    unique_ids = sorted(list(unique_ids))\n",
    "    indices_tensor = torch.tensor(unique_ids, device=model.device, dtype=torch.long)\n",
    "\n",
    "    # Récupérer les embeddings pour les indices uniques\n",
    "    embeddings = model.embeddings(indices_tensor)\n",
    "\n",
    "    # Calculer la matrice de similarité cosinus\n",
    "    similarity_matrix = torch.nn.functional.cosine_similarity(embeddings.unsqueeze(0), embeddings.unsqueeze(1), dim=2)\n",
    "\n",
    "    # Préparer le mappage des indices originaux aux indices dans indices_tensor\n",
    "    index_to_tensor_idx = {idx: tensor_idx for tensor_idx, idx in enumerate(unique_ids)}\n",
    "\n",
    "    # Préparer les voisins en utilisant les indices mappés\n",
    "    neighbors = prepare_neighbors(index_pairs, indices_tensor, index_to_tensor_idx)\n",
    "\n",
    "    # Sélectionner les négatifs\n",
    "    negatives = select_negatives(indices_tensor, similarity_matrix, neighbors, synonym=synonym)\n",
    "\n",
    "    return negatives\n",
    "    # END TODO\n",
    "\n"
   ]
  },
  {
   "cell_type": "markdown",
   "metadata": {
    "id": "O4NAr2k7A5TS"
   },
   "source": [
    "#### 3.2 Fonctions de coût\n",
    "\n",
    "Pour chaque paire de synonymes $(x^l, x^r)$ *pour x left et x right* dans le lot $B_S$, nous trouvons un négatif $(t^l, t^r)$ ce qui constitue le lot $T_S$:\n",
    "- $ t^l $ est le mot dans le lot le plus proche de $ x^l $ mais qui n'est pas $ x^r $.\n",
    "- $ t^r $ est le mot dans le lot le plus proche de $ x^r $ mais qui n'est pas $ x^l $.\n",
    "\n",
    "De même, pour chaque paire d'antonymes $(x^l, x^r)$ dans le lot $B_A$, nous trouvons un négatif $(t^l, t^r)$ ce qui constitue le lot $T_A$:\n",
    "- $ t^l $ est le mot dans le lot le plus éloigné de $ x^l $ mais qui n'est pas $ x^r $.\n",
    "- $ t^r $ est le mot dans le lot le plus éloigné de $ x^r $ mais qui n'est pas $ x^l $.\n",
    "\n",
    "\n",
    "Comparer un mot à son synonyme (ou antonyme) et à son négatif permet d'entraîner le modèle sur des exemples difficiles qui forcent le modèle à apprendre des représentations plus robustes.\n",
    "\n",
    "Il y aura trois fonctions de coût :\n",
    "1. **Attraction** : Attire les synonymes plus proches les uns des autres.\n",
    "2. **Répulsion** : Repousse les antonymes plus loin les uns des autres.\n",
    "3. **Régularisation** : Évite que les plongements ne s'éloignent trop de ceux du modèle pré-entraîné.\n",
    "\n",
    "Les fonctions de coût sont définies comme suit, en sommant sur `i`, les paires de synonymes et d'antonymes dans les lots $B_S$ et $B_A$ :\n",
    "\n",
    "1. **Attraction** :\n",
    "$$ S(B_S, T_S) = \\sum_{i=1}^{|B_S|} \\left[ \\max \\left(0, \\delta_{syn} + x_i^l t_i^l - x_i^l x_i^r \\right) + \\max \\left( 0, \\delta_{syn} + x_i^r t_i^r - x_i^l x_i^r \\right) \\right] $$\n",
    "\n",
    "1. **Répulsion** :\n",
    "$$ A(B_A, T_A) = \\sum_{i=1}^{|B_A|} \\left[ \\max \\left(0, \\delta_{ant} + x_i^l x_i^r - x_i^l t_i^l \\right) + \\max \\left( 0, \\delta_{ant} + x_i^r x_i^l - x_i^r t_i^r \\right) \\right] $$\n",
    "\n",
    "1. **Régularisation** :\n",
    "$$ R(B_S, B_A) = \\sum_{x_i \\in V(B_S \\cup B_A)} \\lambda_{reg} \\| \\hat{x}_i - x_i \\|^2 $$\n",
    "\n",
    "La fonction de coût totale est la somme de ces trois termes :\n",
    "$$ C(B_S, T_S, B_A, T_A) = S(B_S, T_S) + A(B_A, T_A) + R(B_S, B_A) $$\n",
    "\n",
    "$\\delta_{syn}$, $\\delta_{ant}$ et $\\lambda_{reg}$ sont des hyperparamètres."
   ]
  },
  {
   "cell_type": "markdown",
   "metadata": {
    "id": "gXM7oyPoA5TT"
   },
   "source": [
    "Avec l'exemple précédent, prenons\n",
    "> + $x_i^l$ : voiture\n",
    "> + $x_i^r$: véhicule\n",
    "> + $t_i^l$: plante\n",
    ">\n",
    "> On veut que voiture et véhicule aient un plus grand produit scalaire que voiture et plante, donc que $\\delta_{syn} + x_i^l t_i^l - x_i^l x_i^r <0$, et donc que $S$ soit minimisé. De même pour la deuxième partie de l'équation, symmétrique, avec le 2nd élément du couple."
   ]
  },
  {
   "cell_type": "markdown",
   "metadata": {
    "id": "CjMWQB55A5TT"
   },
   "source": [
    "##### 3.2.1 Implémentez la fonction `synonym_cost` qui calcule la fonction de coût d'attraction (sur les paires de synonymes). (5 points)\n",
    "\n",
    "$$ S(B_S, T_S) = \\sum_{i=1}^{|B_S|} \\left[ \\max \\left(0, \\delta_{syn} + x_i^l t_i^l - x_i^l x_i^r \\right) + \\max \\left( 0, \\delta_{syn} + x_i^r t_i^r - x_i^l x_i^r \\right) \\right] $$\n",
    "\n",
    "Le membre de gauche pénalise si le mot de gauche est plus éloigné de son négatif que de son synonyme. De même, le membre de droite pénalise si le mot de gauche est plus éloigné de son négatif que de son synonyme.\n"
   ]
  },
  {
   "cell_type": "code",
   "execution_count": 28,
   "metadata": {
    "id": "qs6kHe7LA5TT"
   },
   "outputs": [],
   "source": [
    "def synonym_cost(model, synonym_pairs, synonym_negatives):\n",
    "    \"\"\"\n",
    "    Calcule le coût d'attraction pour les paires de synonymes.\n",
    "\n",
    "    synonym_pairs: liste de tuples d'indices de paires de synonymes\n",
    "    synonym_negatives: dictionnaire de mots avec leurs négatifs {mot_index: négatif_index}\n",
    "\n",
    "    Returns:\n",
    "    torch.Tensor, coût total pour les paires de synonymes\n",
    "    \"\"\"\n",
    "    # HINT: Utiliser torch.relu pour max(0, x)\n",
    "    # TODO\n",
    "    # Initialisation des listes pour les indices des synonymes et leurs négatifs\n",
    "    indices_left_list = []\n",
    "    indices_right_list = []\n",
    "    indices_negatives_left_list = []\n",
    "    indices_negatives_right_list = []\n",
    "\n",
    "    # Remplissage des listes avec les indices\n",
    "    for pair in synonym_pairs:\n",
    "        indices_left_list.append(pair[0])  # Ajoute l'indice gauche\n",
    "        indices_right_list.append(pair[1])  # Ajoute l'indice droit\n",
    "        indices_negatives_left_list.append(synonym_negatives[pair[0].item()])  # Ajoute l'indice négatif gauche\n",
    "        indices_negatives_right_list.append(synonym_negatives[pair[1].item()])  # Ajoute l'indice négatif droit\n",
    "\n",
    "    # Conversion des listes en tensors PyTorch\n",
    "    indices_left = torch.tensor(indices_left_list, device=model.device)\n",
    "    indices_right = torch.tensor(indices_right_list, device=model.device)\n",
    "    indices_negatives_left = torch.tensor(indices_negatives_left_list, device=model.device)\n",
    "    indices_negatives_right = torch.tensor(indices_negatives_right_list, device=model.device)\n",
    "\n",
    "    # Extraction des embeddings\n",
    "    embeddings_left = model.embeddings(indices_left)\n",
    "    embeddings_right = model.embeddings(indices_right)\n",
    "    embeddings_negatives_left = model.embeddings(indices_negatives_left)\n",
    "    embeddings_negatives_right = model.embeddings(indices_negatives_right)\n",
    "\n",
    "    # Initialisation des listes pour les produits scalaires\n",
    "    dot_product_left_right = []\n",
    "    dot_product_left_neg_left = []\n",
    "    dot_product_right_neg_right = []\n",
    "\n",
    "    # Calcul des termes de coût avec des opérations vectorisées\n",
    "    dot_product_left_right = torch.sum(embeddings_left * embeddings_negatives_left, dim=1)\n",
    "    dot_product_left_neg_left = torch.sum(embeddings_left * embeddings_right, dim=1)\n",
    "    dot_product_right_neg_right = torch.sum(embeddings_right * embeddings_negatives_right, dim=1)\n",
    "\n",
    "    term_l = torch.relu(dot_product_left_right - dot_product_left_neg_left + model.margin_plus)\n",
    "    term_r = torch.relu(dot_product_right_neg_right - dot_product_left_neg_left + model.margin_plus)\n",
    "\n",
    "    # Somme des termes pour obtenir le coût total\n",
    "    synonym_cost = torch.sum(term_l + term_r)\n",
    "\n",
    "    return synonym_cost\n",
    "    # END TODO"
   ]
  },
  {
   "cell_type": "markdown",
   "metadata": {
    "id": "TRabFffDA5TT"
   },
   "source": [
    "##### 3.2.2 Implémentez la fonction `antonym_cost` qui calcule la fonction de coût de répulsion (sur les paires d'antonymes). (5 points)\n",
    "\n",
    "$$ A(B_A, T_A) = \\sum_{i=1}^{|B_A|} \\left[ \\max \\left(0, \\delta_{ant} + x_i^l x_i^r - x_i^l t_i^l \\right) + \\max \\left( 0, \\delta_{ant} + x_i^r x_i^l - x_i^r t_i^r \\right) \\right] $$\n",
    "\n",
    "Le membre de gauche pénalise si le mot de gauche est plus éloigné de son antonyme que de son négatif. De même, le membre de droite pénalise si le mot de gauche est plus éloigné de son antonyme que de son négatif."
   ]
  },
  {
   "cell_type": "code",
   "execution_count": 29,
   "metadata": {
    "id": "g_ZFYs5yA5TU"
   },
   "outputs": [],
   "source": [
    "def antonym_cost(model, antonym_pairs, antonym_negatives):\n",
    "    \"\"\"\n",
    "    Calcule le coût de répulsion pour les paires d'antonymes.\n",
    "\n",
    "    antonym_pairs: liste de tuples d'indices de paires d'antonymes\n",
    "    antonym_negatives: dictionnaire de mots avec leurs négatifs {mot_index: négatif_index}\n",
    "\n",
    "    Returns:\n",
    "    torch.Tensor, coût total pour les paires d'antonymes\n",
    "    \"\"\"\n",
    "    # HINT: Utiliser torch.relu pour max(0, x)\n",
    "    # TODO\n",
    "\n",
    "    # Préparation des indices pour les embeddings\n",
    "    # Indices des antonymes et leurs négatifs\n",
    "    indices_left = []\n",
    "    indices_right = []\n",
    "    indices_negatives_left = []\n",
    "    indices_negatives_right = []\n",
    "\n",
    "    # Remplissage des listes avec les indices des antonymes\n",
    "    for pair in antonym_pairs:\n",
    "        indices_left.append(pair[0])\n",
    "        indices_right.append(pair[1])\n",
    "        indices_negatives_left.append(antonym_negatives[pair[0].item()])\n",
    "        indices_negatives_right.append(antonym_negatives[pair[1].item()])\n",
    "\n",
    "    # Conversion des listes en tenseurs\n",
    "    indices_left_tensor = torch.tensor(indices_left, device=model.device)\n",
    "    indices_right_tensor = torch.tensor(indices_right, device=model.device)\n",
    "    indices_negatives_left_tensor = torch.tensor(indices_negatives_left, device=model.device)\n",
    "    indices_negatives_right_tensor = torch.tensor(indices_negatives_right, device=model.device)\n",
    "\n",
    "    # Calcul des embeddings\n",
    "    embeddings_left = model.embeddings(indices_left_tensor)\n",
    "    embeddings_right = model.embeddings(indices_right_tensor)\n",
    "    embeddings_negatives_left = model.embeddings(indices_negatives_left_tensor)\n",
    "    embeddings_negatives_right = model.embeddings(indices_negatives_right_tensor)\n",
    "\n",
    "    # Initialisation des listes pour les produits scalaires\n",
    "    dot_product_left_right = []\n",
    "    dot_product_left_neg_left = []\n",
    "    dot_product_right_neg_right = []\n",
    "\n",
    "    # Calcul du coût\n",
    "    dot_product_left_right = torch.sum(embeddings_left * embeddings_right, dim=1)  # dot product entre chaque ligne\n",
    "    dot_product_left_neg_left = torch.sum(embeddings_left * embeddings_negatives_left, dim=1)  # dot product entre chaque ligne\n",
    "    dot_product_right_neg_right = torch.sum(embeddings_right * embeddings_negatives_right, dim=1)  # dot product entre chaque ligne\n",
    "\n",
    "    cost_1 = torch.relu(dot_product_left_right - dot_product_left_neg_left + model.margin_minus) # max pour chaque ligne\n",
    "    cost_2 = torch.relu(dot_product_left_right - dot_product_right_neg_right + model.margin_minus) # max pour chaque ligne\n",
    "    total_cost = cost_1 + cost_2 # Tensor de dimension (batch_size, 1)\n",
    "\n",
    "    antonym_cost = torch.sum(total_cost) # Somme sur i\n",
    "\n",
    "    # Somme des coûts antonymes\n",
    "    antonym_cost = torch.sum(total_cost)  # Somme sur tous les éléments\n",
    "\n",
    "    return antonym_cost\n",
    "    # END TODO"
   ]
  },
  {
   "cell_type": "markdown",
   "metadata": {
    "id": "RngNxZNpA5TU"
   },
   "source": [
    "##### 3.2.3 Implémentez la fonction `regularization_cost` qui calcule la fonction de coût de régularisation. (4 points)\n",
    "\n",
    "$$ R(B_S, B_A) = \\sum_{x_i \\in V(B_S \\cup B_A)} \\lambda_{reg} \\| \\hat{x}_i - x_i \\|^2 $$"
   ]
  },
  {
   "cell_type": "code",
   "execution_count": 30,
   "metadata": {
    "id": "_VuADtOTA5TU"
   },
   "outputs": [],
   "source": [
    "def regularization_cost(model, synonym_pairs, antonym_pairs):\n",
    "    \"\"\"\n",
    "    Calcule le coût de régularisation pour les paires de synonymes et antonymes.\n",
    "\n",
    "    synonym_pairs: liste de tuples d'indices de paires de synonymes\n",
    "    antonym_pairs: liste de tuples d'indices de paires d'antonymes\n",
    "\n",
    "    Returns:\n",
    "    torch.Tensor, coût total de régularisation\n",
    "    \"\"\"\n",
    "    # TODO\n",
    "    unique_indices = set()\n",
    "    # Assurez-vous que les paires sont non vides et contiennent des tuples valides\n",
    "    for pairs in [synonym_pairs, antonym_pairs]:\n",
    "        for pair in pairs:\n",
    "            if isinstance(pair, tuple) and len(pair) == 2:\n",
    "                unique_indices.update(pair)\n",
    "\n",
    "    # Filtrer les indices pour s'assurer qu'ils sont dans la plage valide\n",
    "    max_index = model.embeddings.num_embeddings - 1\n",
    "    filtered_indices = [index for index in unique_indices if 0 <= index <= max_index]\n",
    "\n",
    "    if not filtered_indices:\n",
    "        return torch.tensor(0.0, device=model.device)  # Si aucun indice n'est valide, retourner un coût nul\n",
    "\n",
    "    # Convertir en Tensor\n",
    "    unique_indices_tensor = torch.tensor(filtered_indices, device=model.device)\n",
    "\n",
    "    # Récupérer les plongements actuels et originaux pour ces indices\n",
    "    current_embeddings = model.embeddings(unique_indices_tensor)\n",
    "    original_embeddings = model.original_embeddings(unique_indices_tensor)\n",
    "\n",
    "    # Calcul du coût de régularisation\n",
    "    diff = current_embeddings - original_embeddings\n",
    "    regularization_cost =  model.regularization * torch.sum(diff ** 2)\n",
    "\n",
    "    return regularization_cost\n",
    "    # END TODO\n"
   ]
  },
  {
   "cell_type": "markdown",
   "metadata": {
    "id": "E4-IaS08A5TU"
   },
   "source": [
    "#### 3.3 Mise en place\n",
    "##### 3.3.1 Implémentez la fonction `forward` qui utilise les fonctions définies plus tôt pour calculer le coût total. (4 points)\n",
    "\n",
    "La fonction prend en entrée un lot de synonymes et un lot d'antonymes, c'est-à-dire des paires de synonymes et des paires d'antonymes.\n",
    "\n",
    "Vous devez trouver les négatifs de tous les mots des lots au moyen de votre fonction  run_negative_extraction puis calculer la fonction de coût totale."
   ]
  },
  {
   "cell_type": "code",
   "execution_count": 31,
   "metadata": {
    "id": "TRB6pOZRA5TV"
   },
   "outputs": [],
   "source": [
    "def forward(model, synonym_pairs, antonym_pairs):\n",
    "    \"\"\"\n",
    "    Fonction forward pour calculer le coût total.\n",
    "\n",
    "    Args :\n",
    "        synonym_pairs   :\n",
    "        Liste de tuples d'indices de paires de synonymes\n",
    "\n",
    "        antonym_pairs   :\n",
    "        Liste de tuples d'indices de paires d'antonymes\n",
    "\n",
    "    Returns:\n",
    "    Tenseur contenant le coût total (attraction, répulsion et régularisation)\n",
    "    \"\"\"\n",
    "\n",
    "    # Conversion des listes en tenseurs si ce ne sont pas déjà des tenseurs\n",
    "    if isinstance(synonym_pairs, list):\n",
    "        synonym_pairs = torch.tensor(synonym_pairs, device=model.device) if synonym_pairs else torch.tensor([], device=model.device)\n",
    "    if isinstance(antonym_pairs, list):\n",
    "        antonym_pairs = torch.tensor(antonym_pairs, device=model.device) if antonym_pairs else torch.tensor([], device=model.device)\n",
    "\n",
    "    # Vérifiez que les synonym_pairs et antonym_pairs ne sont pas vides\n",
    "    if synonym_pairs.nelement() == 0 and antonym_pairs.nelement() == 0:\n",
    "        return torch.tensor(0, device=model.device)  # Retourne un coût de 0 si l'un des ensembles est vide\n",
    "\n",
    "    # Extraction des négatifs pour les synonymes et les antonymes\n",
    "    synonym_negatives = run_negative_extraction(model, synonym_pairs, synonym=True) if synonym_pairs.nelement() > 0 else {}\n",
    "    antonym_negatives = run_negative_extraction(model, antonym_pairs, synonym=False) if antonym_pairs.nelement() > 0 else {}\n",
    "\n",
    "    # Calcul des coûts\n",
    "    attraction_cost = synonym_cost(model, synonym_pairs, synonym_negatives) if synonym_pairs.nelement() > 0 else 0\n",
    "    repulsion_cost = antonym_cost(model, antonym_pairs, antonym_negatives) if antonym_pairs.nelement() > 0 else 0\n",
    "\n",
    "    reg_cost = regularization_cost(model, synonym_pairs, antonym_pairs) if synonym_pairs.nelement() > 0 or antonym_pairs.nelement() > 0 else 0\n",
    "\n",
    "    total_cost = attraction_cost + repulsion_cost + reg_cost\n",
    "    return total_cost\n",
    "\n",
    "    # END TODO"
   ]
  },
  {
   "cell_type": "markdown",
   "metadata": {
    "id": "pr2ef4oCA5TV"
   },
   "source": [
    "#### 3.3.2 Évaluation (3 points)\n",
    "\n",
    "Utilisez la fonction `spearman_rank_correlation` pour compléter la fonction d'évaluation `evaluate` qui exécute le modèle sur le jeu d'évaluation et calcule la corrélation de Spearman entre les scores prédits et réels.\n",
    "\n",
    "Utilisez `torch.no_grad()` pour éviter de stocker les gradients."
   ]
  },
  {
   "cell_type": "code",
   "execution_count": 32,
   "metadata": {
    "id": "z3EeEniSA5TV"
   },
   "outputs": [],
   "source": [
    "def evaluate(model, eval_data, word_to_index):\n",
    "    \"\"\"\n",
    "    Calclue les prédictions du modèle sur le jeu d'évaluation puis la corrélation de Spearman entre les scores prédits et réels.\n",
    "\n",
    "    model: modèle de plongements de mots\n",
    "    eval_data: pd.DataFrame\n",
    "    word_to_index: dict\n",
    "\n",
    "    Returns:\n",
    "    float, la corrélation de Spearman entre les scores prédits par le modèle et réels.\n",
    "    \"\"\"\n",
    "\n",
    "    # TODO\n",
    "    model.eval()\n",
    "    device = model.device\n",
    "    predicted_scores = []\n",
    "    real_scores = []\n",
    "\n",
    "    with torch.no_grad():\n",
    "        for _, row in eval_data.iterrows():\n",
    "            w1, w2 = row['word 1'], row['word 2']\n",
    "            if w1 in word_to_index and w2 in word_to_index:\n",
    "                emb1 = model.embeddings(torch.tensor([word_to_index[w1]], device=device))\n",
    "                emb2 = model.embeddings(torch.tensor([word_to_index[w2]], device=device))\n",
    "                similarity = torch.nn.functional.cosine_similarity(emb1, emb2)\n",
    "                predicted_scores.append(similarity.item())\n",
    "                real_scores.append(row['score'])\n",
    "\n",
    "    # Calculer la corrélation de Spearman\n",
    "    if len(predicted_scores) > 0 and len(real_scores) > 0:\n",
    "        spearman_corr = spearman_rank_correlation(predicted_scores, real_scores)\n",
    "        return spearman_corr\n",
    "    else:\n",
    "        return None  # ou 0, dépend de comment vous voulez gérer ce cas\n",
    "\n",
    "    # END TODO\n"
   ]
  },
  {
   "cell_type": "markdown",
   "metadata": {
    "id": "V9pn0v5NA5TW"
   },
   "source": [
    "### 4. Entraînement de zéro (16 Points)\n",
    "\n",
    "Nous allons maintenant entraîner le modèle de zéro, sans utiliser les plongements GloVe pré-entraînés. Ensuite, dans la partie 5, nous entraînerons le modèle en l'initialisant avec les plongements GloVe pré-entraînés."
   ]
  },
  {
   "cell_type": "code",
   "execution_count": 33,
   "metadata": {
    "id": "xiir9fvWA5TX"
   },
   "outputs": [],
   "source": [
    "# Hyperparamètres, optimiseur et DataLoader\n",
    "\n",
    "BATCH_SIZE = 64\n",
    "NUM_EPOCHS = 20\n",
    "LEARNING_RATE = 5e-3\n",
    "\n",
    "device = 'cuda' if torch.cuda.is_available() else 'cpu'\n",
    "\n",
    "torch.cuda.empty_cache()\n",
    "gc.collect()\n",
    "\n",
    "train_syn_tensor = data_to_tensor(train_synonyms, glove_word_to_index)\n",
    "train_ant_tensor = data_to_tensor(train_antonyms, glove_word_to_index)\n",
    "\n",
    "syn_data_loader = DataLoader(train_syn_tensor, batch_size=BATCH_SIZE, shuffle=True, drop_last=True)\n",
    "ant_data_loader = DataLoader(train_ant_tensor, batch_size=BATCH_SIZE, shuffle=True, drop_last=True)"
   ]
  },
  {
   "cell_type": "markdown",
   "metadata": {
    "id": "wAI3CSovA5TX"
   },
   "source": [
    "#### 4.1 Complétez la cellule suivante pour créer le modèle de zéro `model_zero`, à partir d'une matrice de plongements aléatoire. (1 point)"
   ]
  },
  {
   "cell_type": "code",
   "execution_count": 34,
   "metadata": {
    "id": "SkhA0FjDA5TX"
   },
   "outputs": [],
   "source": [
    "model_zero = None\n",
    "random_seed = 0\n",
    "random_generator = torch.Generator(device=device).manual_seed(random_seed)\n",
    "\n",
    "embeddings_size = glove_embeddings.size()\n",
    "random_init_embeddings = torch.randn(embeddings_size, generator=random_generator, device=device)\n",
    "\n",
    "# TODO\n",
    "model_zero = ContrastiveWordEmbeddingModel(embeddings=random_init_embeddings, device=device)\n",
    "# END TODO\n",
    "\n",
    "optimizer = optim.Adam(model_zero.parameters(), lr=LEARNING_RATE)"
   ]
  },
  {
   "cell_type": "markdown",
   "metadata": {
    "id": "UDuEfn-kA5TX"
   },
   "source": [
    "#### 4.2 Entraînez le modèle sur le jeu des paires de synonymes et d'antonymes. (6 points)\n",
    "\n",
    "N'oubliez pas que l'entraînement se fait sur les synonymes et antonymes et que l'évaluation se fait sur SimLex-999.\n",
    "\n",
    "À défaut d'avoir un jeu de validation, on observe les résultats sur le corpus de test : SimLex-999. Ceci n’est fait qu’à titre illustratif pour voir l'évolution de l'apprentissage. Il ne faut pas faire de choix pour l’entrainement à partir des résultats sur le corpus de test.\n",
    "\n",
    "*Note : Les jeux de synonymes et d'antonymes n'ont pas la même taille. Une époque (epoch) correspond à une itération sur le jeu de données le plus petit.*"
   ]
  },
  {
   "cell_type": "code",
   "execution_count": 35,
   "metadata": {
    "colab": {
     "base_uri": "https://localhost:8080/"
    },
    "id": "7ezNdqcGA5TX",
    "outputId": "8a45aebf-59c7-4270-e151-a6dbc231c3a9"
   },
   "outputs": [
    {
     "name": "stdout",
     "output_type": "stream",
     "text": [
      "Before training, Spearman Correlation: -0.0272\n"
     ]
    },
    {
     "name": "stderr",
     "output_type": "stream",
     "text": [
      "\r  0%|          | 0/20 [00:00<?, ?it/s]"
     ]
    },
    {
     "name": "stdout",
     "output_type": "stream",
     "text": [
      "Epoch 1/20, Total Loss: 460115.5966, Average Loss: 2473.7398\n"
     ]
    },
    {
     "name": "stderr",
     "output_type": "stream",
     "text": [
      "\r  5%|▌         | 1/20 [00:59<18:55, 59.75s/it]"
     ]
    },
    {
     "name": "stdout",
     "output_type": "stream",
     "text": [
      "Epoch 1, Spearman Correlation: 0.0130\n",
      "Epoch 2/20, Total Loss: 332367.4644, Average Loss: 1786.9219\n"
     ]
    },
    {
     "name": "stderr",
     "output_type": "stream",
     "text": [
      "\r 10%|█         | 2/20 [01:53<16:49, 56.09s/it]"
     ]
    },
    {
     "name": "stdout",
     "output_type": "stream",
     "text": [
      "Epoch 2, Spearman Correlation: 0.0440\n",
      "Epoch 3/20, Total Loss: 279052.3271, Average Loss: 1500.2813\n"
     ]
    },
    {
     "name": "stderr",
     "output_type": "stream",
     "text": [
      "\r 15%|█▌        | 3/20 [02:43<15:11, 53.63s/it]"
     ]
    },
    {
     "name": "stdout",
     "output_type": "stream",
     "text": [
      "Epoch 3, Spearman Correlation: 0.0572\n",
      "Epoch 4/20, Total Loss: 256936.1287, Average Loss: 1381.3770\n"
     ]
    },
    {
     "name": "stderr",
     "output_type": "stream",
     "text": [
      "\r 20%|██        | 4/20 [03:33<13:51, 51.98s/it]"
     ]
    },
    {
     "name": "stdout",
     "output_type": "stream",
     "text": [
      "Epoch 4, Spearman Correlation: 0.0636\n",
      "Epoch 5/20, Total Loss: 236843.4224, Average Loss: 1273.3517\n"
     ]
    },
    {
     "name": "stderr",
     "output_type": "stream",
     "text": [
      "\r 25%|██▌       | 5/20 [04:21<12:38, 50.54s/it]"
     ]
    },
    {
     "name": "stdout",
     "output_type": "stream",
     "text": [
      "Epoch 5, Spearman Correlation: 0.0727\n",
      "Epoch 6/20, Total Loss: 228057.3500, Average Loss: 1226.1148\n"
     ]
    },
    {
     "name": "stderr",
     "output_type": "stream",
     "text": [
      "\r 30%|███       | 6/20 [05:10<11:41, 50.10s/it]"
     ]
    },
    {
     "name": "stdout",
     "output_type": "stream",
     "text": [
      "Epoch 6, Spearman Correlation: 0.0737\n",
      "Epoch 7/20, Total Loss: 210802.7478, Average Loss: 1133.3481\n"
     ]
    },
    {
     "name": "stderr",
     "output_type": "stream",
     "text": [
      "\r 35%|███▌      | 7/20 [06:03<11:00, 50.84s/it]"
     ]
    },
    {
     "name": "stdout",
     "output_type": "stream",
     "text": [
      "Epoch 7, Spearman Correlation: 0.0778\n",
      "Epoch 8/20, Total Loss: 197993.1818, Average Loss: 1064.4795\n"
     ]
    },
    {
     "name": "stderr",
     "output_type": "stream",
     "text": [
      "\r 40%|████      | 8/20 [06:52<10:06, 50.55s/it]"
     ]
    },
    {
     "name": "stdout",
     "output_type": "stream",
     "text": [
      "Epoch 8, Spearman Correlation: 0.0864\n",
      "Epoch 9/20, Total Loss: 178450.4697, Average Loss: 959.4111\n"
     ]
    },
    {
     "name": "stderr",
     "output_type": "stream",
     "text": [
      "\r 45%|████▌     | 9/20 [07:42<09:13, 50.35s/it]"
     ]
    },
    {
     "name": "stdout",
     "output_type": "stream",
     "text": [
      "Epoch 9, Spearman Correlation: 0.0888\n",
      "Epoch 10/20, Total Loss: 164503.5016, Average Loss: 884.4274\n"
     ]
    },
    {
     "name": "stderr",
     "output_type": "stream",
     "text": [
      "\r 50%|█████     | 10/20 [08:34<08:28, 50.83s/it]"
     ]
    },
    {
     "name": "stdout",
     "output_type": "stream",
     "text": [
      "Epoch 10, Spearman Correlation: 0.1068\n",
      "Epoch 11/20, Total Loss: 148135.8047, Average Loss: 796.4291\n"
     ]
    },
    {
     "name": "stderr",
     "output_type": "stream",
     "text": [
      "\r 55%|█████▌    | 11/20 [09:25<07:37, 50.78s/it]"
     ]
    },
    {
     "name": "stdout",
     "output_type": "stream",
     "text": [
      "Epoch 11, Spearman Correlation: 0.1068\n",
      "Epoch 12/20, Total Loss: 129227.8526, Average Loss: 694.7734\n"
     ]
    },
    {
     "name": "stderr",
     "output_type": "stream",
     "text": [
      "\r 60%|██████    | 12/20 [10:19<06:54, 51.85s/it]"
     ]
    },
    {
     "name": "stdout",
     "output_type": "stream",
     "text": [
      "Epoch 12, Spearman Correlation: 0.1083\n",
      "Epoch 13/20, Total Loss: 120478.2639, Average Loss: 647.7326\n"
     ]
    },
    {
     "name": "stderr",
     "output_type": "stream",
     "text": [
      "\r 65%|██████▌   | 13/20 [11:23<06:27, 55.35s/it]"
     ]
    },
    {
     "name": "stdout",
     "output_type": "stream",
     "text": [
      "Epoch 13, Spearman Correlation: 0.1133\n",
      "Epoch 14/20, Total Loss: 105218.7981, Average Loss: 565.6925\n"
     ]
    },
    {
     "name": "stderr",
     "output_type": "stream",
     "text": [
      "\r 70%|███████   | 14/20 [12:22<05:38, 56.50s/it]"
     ]
    },
    {
     "name": "stdout",
     "output_type": "stream",
     "text": [
      "Epoch 14, Spearman Correlation: 0.1107\n",
      "Epoch 15/20, Total Loss: 94632.1244, Average Loss: 508.7749\n"
     ]
    },
    {
     "name": "stderr",
     "output_type": "stream",
     "text": [
      "\r 75%|███████▌  | 15/20 [13:19<04:43, 56.79s/it]"
     ]
    },
    {
     "name": "stdout",
     "output_type": "stream",
     "text": [
      "Epoch 15, Spearman Correlation: 0.1142\n",
      "Epoch 16/20, Total Loss: 86014.0433, Average Loss: 462.4411\n"
     ]
    },
    {
     "name": "stderr",
     "output_type": "stream",
     "text": [
      "\r 80%|████████  | 16/20 [14:14<03:45, 56.31s/it]"
     ]
    },
    {
     "name": "stdout",
     "output_type": "stream",
     "text": [
      "Epoch 16, Spearman Correlation: 0.1232\n",
      "Epoch 17/20, Total Loss: 77239.9555, Average Loss: 415.2686\n"
     ]
    },
    {
     "name": "stderr",
     "output_type": "stream",
     "text": [
      "\r 85%|████████▌ | 17/20 [15:07<02:45, 55.13s/it]"
     ]
    },
    {
     "name": "stdout",
     "output_type": "stream",
     "text": [
      "Epoch 17, Spearman Correlation: 0.1241\n",
      "Epoch 18/20, Total Loss: 69065.9387, Average Loss: 371.3223\n"
     ]
    },
    {
     "name": "stderr",
     "output_type": "stream",
     "text": [
      "\r 90%|█████████ | 18/20 [16:00<01:49, 54.67s/it]"
     ]
    },
    {
     "name": "stdout",
     "output_type": "stream",
     "text": [
      "Epoch 18, Spearman Correlation: 0.1270\n",
      "Epoch 19/20, Total Loss: 63474.7380, Average Loss: 341.2620\n"
     ]
    },
    {
     "name": "stderr",
     "output_type": "stream",
     "text": [
      "\r 95%|█████████▌| 19/20 [16:54<00:54, 54.36s/it]"
     ]
    },
    {
     "name": "stdout",
     "output_type": "stream",
     "text": [
      "Epoch 19, Spearman Correlation: 0.1345\n",
      "Epoch 20/20, Total Loss: 56782.3447, Average Loss: 305.2814\n"
     ]
    },
    {
     "name": "stderr",
     "output_type": "stream",
     "text": [
      "100%|██████████| 20/20 [17:50<00:00, 53.51s/it]"
     ]
    },
    {
     "name": "stdout",
     "output_type": "stream",
     "text": [
      "Epoch 20, Spearman Correlation: 0.1407\n"
     ]
    },
    {
     "name": "stderr",
     "output_type": "stream",
     "text": [
      "\n"
     ]
    },
    {
     "name": "stdout",
     "output_type": "stream",
     "text": [
      "After training, Spearman Correlation: 0.1407\n"
     ]
    }
   ],
   "source": [
    "spearman_corr = evaluate(model_zero, evaluation_simlex, glove_word_to_index)\n",
    "print(f'Before training, Spearman Correlation: {spearman_corr:.4f}')\n",
    "\n",
    "# TODO\n",
    "\n",
    "def train(model, syn_loader, ant_loader, optimizer, num_epochs, eval_data, word_to_index):\n",
    "    \"\"\"\n",
    "    Entraîne le modèle avec les paires de synonymes et d'antonymes.\n",
    "\n",
    "    Args:\n",
    "        model (nn.Module): Le modèle à entraîner.\n",
    "        syn_loader (DataLoader): DataLoader pour les synonymes.\n",
    "        ant_loader (DataLoader): DataLoader pour les antonymes.\n",
    "        optimizer (torch.optim.Optimizer): Optimiseur utilisé pour l'entraînement.\n",
    "        num_epochs (int): Nombre total d'époques d'entraînement.\n",
    "        eval_data (pd.DataFrame): Données pour évaluation finale avec SimLex-999.\n",
    "        word_to_index (dict): Dictionnaire de mots à indices.\n",
    "    \"\"\"\n",
    "    # Mise en mode entraînement\n",
    "    model.train()\n",
    "    losses = []\n",
    "    spearman_correlations = []\n",
    "\n",
    "    for epoch in tqdm(range(num_epochs)):\n",
    "        syn_iter = iter(syn_loader)\n",
    "        ant_iter = iter(ant_loader)\n",
    "        total_loss = 0.0\n",
    "        num_batches = 0\n",
    "\n",
    "        for syn_data, ant_data in zip(syn_iter, ant_iter):\n",
    "            try:\n",
    "                optimizer.zero_grad()\n",
    "                syn_cost = forward(model, syn_data, [])\n",
    "                ant_cost = forward(model, [], ant_data)\n",
    "                total_cost = syn_cost + ant_cost\n",
    "                total_cost.backward()\n",
    "                optimizer.step()\n",
    "\n",
    "                total_loss += total_cost.item()\n",
    "                num_batches += 1\n",
    "            except IndexError as e:\n",
    "                print(f'IndexError during processing: {e}')\n",
    "                continue\n",
    "\n",
    "        average_loss = total_loss / num_batches if num_batches > 0 else 0\n",
    "        losses.append(average_loss)\n",
    "        print(f\"Epoch {epoch + 1}/{num_epochs}, Total Loss: {total_loss:.4f}, Average Loss: {average_loss:.4f}\")\n",
    "\n",
    "        #Mise en mode évaluation\n",
    "        model.eval()\n",
    "        spearman_corr = evaluate(model, eval_data, word_to_index)\n",
    "        spearman_correlations.append(spearman_corr)\n",
    "        print(f'Epoch {epoch + 1}, Spearman Correlation: {spearman_corr:.4f}')\n",
    "        model.train()\n",
    "    return losses, spearman_correlations\n",
    "\n",
    "losses, spearman_correlations = train(model_zero, syn_data_loader, ant_data_loader, optimizer, NUM_EPOCHS, evaluation_simlex, glove_word_to_index)\n",
    "\n",
    "# Vérification après l'entraînement\n",
    "spearman_corr = evaluate(model_zero, evaluation_simlex, glove_word_to_index)\n",
    "print(f'After training, Spearman Correlation: {spearman_corr:.4f}')\n",
    "\n",
    "# END TODO\n"
   ]
  },
  {
   "cell_type": "markdown",
   "metadata": {
    "id": "Y8vtuFNuA5TX"
   },
   "source": [
    "#### 4.3 Courbes d'entraînement du modèle de zéro (4 points)\n",
    "\n",
    "Affichez la perte moyenne sur le jeu d'entraînement et la corrélation de Spearman sur le jeu de validation à chaque époque."
   ]
  },
  {
   "cell_type": "code",
   "execution_count": 36,
   "metadata": {
    "colab": {
     "base_uri": "https://localhost:8080/",
     "height": 627
    },
    "id": "fZ55ulzOA5TY",
    "outputId": "d763354e-e604-4ccd-8479-82776fb3cb64"
   },
   "outputs": [
    {
     "data": {
      "image/png": "[encoded data removed]",
      "text/plain": [
       "<Figure size 1400x600 with 2 Axes>"
      ]
     },
     "metadata": {},
     "output_type": "display_data"
    }
   ],
   "source": [
    "# TODO\n",
    "# Tracé des courbes de perte et de corrélation\n",
    "plt.figure(figsize=(14, 6))\n",
    "\n",
    "# Courbe de perte\n",
    "plt.subplot(1, 2, 1)\n",
    "plt.plot(losses, marker='o', color='b')\n",
    "plt.title('Perte moyenne au cours de l\\'entraînement')\n",
    "plt.xlabel('Époques')\n",
    "plt.ylabel('Perte moyenne')\n",
    "\n",
    "# Courbe de corrélation de Spearman\n",
    "plt.subplot(1, 2, 2)\n",
    "plt.plot(spearman_correlations, marker='o', color='g')\n",
    "plt.title('Corrélation de Spearman au cours de l\\'entraînement')\n",
    "plt.xlabel('Époques')\n",
    "plt.ylabel('Corrélation de Spearman')\n",
    "\n",
    "plt.tight_layout()\n",
    "plt.show()\n",
    "\n",
    "# END TODO\n"
   ]
  },
  {
   "cell_type": "markdown",
   "metadata": {
    "id": "e6kdOkTtA5TY"
   },
   "source": [
    "#### 4.4 Évaluation du modèle de zéro et comparaison avec GloVe (5 points)\n",
    "\n",
    "Comparez le modèle de zéro après l'entraînement à GloVe (résultat de la partie 2.4) en termes de corrélation de Spearman sur le jeu de validation. Quelle méthode est la plus performante ? Pourquoi ?\n"
   ]
  },
  {
   "cell_type": "code",
   "execution_count": 37,
   "metadata": {
    "colab": {
     "base_uri": "https://localhost:8080/"
    },
    "id": "oa6PiNPnuNpk",
    "outputId": "7a05a0b4-0e9e-40bf-ff4f-0d2301124e01"
   },
   "outputs": [
    {
     "name": "stdout",
     "output_type": "stream",
     "text": [
      "\n",
      "                Modèle de zéro après entraînement : La corrélation de Spearman obtenue est de 0.1797.\n",
      "                Modèle GloVe : La corrélation de Spearman était de 0.29\n",
      "                Le modèle GloVe a montré une corrélation de Spearman plus élevée, ce qui indique \n",
      "                qu'il a réussi à établir des relations plus fortes entre les paires de mots basées sur leurs similarités sémantiques.\n",
      "                La corrélation relativement faible du modèle de zéro suggère qu'il n'a pas appris à établir des relations \n",
      "                sémantiques de manière efficace\n",
      "\n",
      "                Pourquoi: \n",
      "                GloVe est un modèle de plongement de mots pré-entraîné sur de vastes corpus textuels, ce qui lui permet d'apprendre \n",
      "                des représentations sémantiques riches. En revanche, le modèle de zéro commence sans connaissance préalable et doit \n",
      "                apprendre les relations uniquement à partir des données d'entraînement fournies.\n",
      "                Les modèles pré-entraînés comme GloVe sont conçus pour capturer des nuances sémantiques basées sur les cooccurrences \n",
      "                de mots dans des contextes variés, alors que le modèle de zéro peut avoir des difficultés à saisir ces nuances \n",
      "                sans un corpus de formation riche et diversifié.\n",
      "             \n"
     ]
    }
   ],
   "source": [
    "comparaison= \"\"\"\n",
    "                Modèle de zéro après entraînement : La corrélation de Spearman obtenue est de 0.1797.\n",
    "                Modèle GloVe : La corrélation de Spearman était de 0.29\n",
    "                Le modèle GloVe a montré une corrélation de Spearman plus élevée, ce qui indique\n",
    "                qu'il a réussi à établir des relations plus fortes entre les paires de mots basées sur leurs similarités sémantiques.\n",
    "                La corrélation relativement faible du modèle de zéro suggère qu'il n'a pas appris à établir des relations\n",
    "                sémantiques de manière efficace\n",
    "\n",
    "                Pourquoi:\n",
    "                GloVe est un modèle de plongement de mots pré-entraîné sur de vastes corpus textuels, ce qui lui permet d'apprendre\n",
    "                des représentations sémantiques riches. En revanche, le modèle de zéro commence sans connaissance préalable et doit\n",
    "                apprendre les relations uniquement à partir des données d'entraînement fournies.\n",
    "                Les modèles pré-entraînés comme GloVe sont conçus pour capturer des nuances sémantiques basées sur les cooccurrences\n",
    "                de mots dans des contextes variés, alors que le modèle de zéro peut avoir des difficultés à saisir ces nuances\n",
    "                sans un corpus de formation riche et diversifié.\n",
    "             \"\"\"\n",
    "print(comparaison)"
   ]
  },
  {
   "cell_type": "markdown",
   "metadata": {
    "id": "EPDgf2qNA5TY"
   },
   "source": [
    "### 5. Intérêt de GloVe (18 Points)\n",
    "\n",
    "Dans la section précédente, nous avons entraîné un modèle de zéro.\n",
    "\n",
    "Nous allons maintenant évaluer si initialiser le modèle avec les plongements de GloVe permet d'améliorer les performances."
   ]
  },
  {
   "cell_type": "markdown",
   "metadata": {
    "id": "R2mRZZBWA5TY"
   },
   "source": [
    "#### 5.1 Initialisation avec GloVe (6 points)\n",
    "\n",
    "Entraînez le modèle `model_fine_tuned`, mais cette fois en ititialisant directement avec les plongements du modèle pré-entraîné GloVe.\n",
    "\n",
    "On utilisera Adam comme optimiseur."
   ]
  },
  {
   "cell_type": "code",
   "execution_count": 38,
   "metadata": {
    "id": "TP4xU5DNA5TY"
   },
   "outputs": [],
   "source": [
    "# TODO\n",
    "model_fine_tuned = None\n",
    "model_fine_tuned = ContrastiveWordEmbeddingModel(glove_embeddings, device=device) # Initialisation avec Glove\n",
    "optimizer = optim.Adam(model_fine_tuned.parameters(), lr=LEARNING_RATE)\n",
    "# END TODO"
   ]
  },
  {
   "cell_type": "code",
   "execution_count": 39,
   "metadata": {
    "colab": {
     "base_uri": "https://localhost:8080/"
    },
    "id": "a3vZA7e3A5TY",
    "outputId": "faff686f-a0b3-47d8-a104-88006e56134a"
   },
   "outputs": [
    {
     "name": "stdout",
     "output_type": "stream",
     "text": [
      "Before training, Spearman Correlation: 0.2923\n"
     ]
    },
    {
     "name": "stderr",
     "output_type": "stream",
     "text": [
      "\r  0%|          | 0/20 [00:00<?, ?it/s]"
     ]
    },
    {
     "name": "stdout",
     "output_type": "stream",
     "text": [
      "Epoch 1/20, Total Loss: 147595.4387, Average Loss: 793.5239\n"
     ]
    },
    {
     "name": "stderr",
     "output_type": "stream",
     "text": [
      "\r  5%|▌         | 1/20 [00:51<16:22, 51.74s/it]"
     ]
    },
    {
     "name": "stdout",
     "output_type": "stream",
     "text": [
      "Epoch 1, Spearman Correlation: 0.3386\n",
      "Epoch 2/20, Total Loss: 41219.5209, Average Loss: 221.6103\n"
     ]
    },
    {
     "name": "stderr",
     "output_type": "stream",
     "text": [
      "\r 10%|█         | 2/20 [01:43<15:30, 51.72s/it]"
     ]
    },
    {
     "name": "stdout",
     "output_type": "stream",
     "text": [
      "Epoch 2, Spearman Correlation: 0.3632\n",
      "Epoch 3/20, Total Loss: 17121.4504, Average Loss: 92.0508\n"
     ]
    },
    {
     "name": "stderr",
     "output_type": "stream",
     "text": [
      "\r 15%|█▌        | 3/20 [02:30<13:59, 49.36s/it]"
     ]
    },
    {
     "name": "stdout",
     "output_type": "stream",
     "text": [
      "Epoch 3, Spearman Correlation: 0.3771\n",
      "Epoch 4/20, Total Loss: 10950.2149, Average Loss: 58.8721\n"
     ]
    },
    {
     "name": "stderr",
     "output_type": "stream",
     "text": [
      "\r 20%|██        | 4/20 [03:17<12:55, 48.50s/it]"
     ]
    },
    {
     "name": "stdout",
     "output_type": "stream",
     "text": [
      "Epoch 4, Spearman Correlation: 0.3817\n",
      "Epoch 5/20, Total Loss: 7508.9686, Average Loss: 40.3708\n"
     ]
    },
    {
     "name": "stderr",
     "output_type": "stream",
     "text": [
      "\r 25%|██▌       | 5/20 [04:05<12:04, 48.27s/it]"
     ]
    },
    {
     "name": "stdout",
     "output_type": "stream",
     "text": [
      "Epoch 5, Spearman Correlation: 0.3830\n",
      "Epoch 6/20, Total Loss: 6081.0280, Average Loss: 32.6937\n"
     ]
    },
    {
     "name": "stderr",
     "output_type": "stream",
     "text": [
      "\r 30%|███       | 6/20 [04:56<11:30, 49.35s/it]"
     ]
    },
    {
     "name": "stdout",
     "output_type": "stream",
     "text": [
      "Epoch 6, Spearman Correlation: 0.3877\n",
      "Epoch 7/20, Total Loss: 4623.9916, Average Loss: 24.8602\n"
     ]
    },
    {
     "name": "stderr",
     "output_type": "stream",
     "text": [
      "\r 35%|███▌      | 7/20 [05:50<11:01, 50.87s/it]"
     ]
    },
    {
     "name": "stdout",
     "output_type": "stream",
     "text": [
      "Epoch 7, Spearman Correlation: 0.3948\n",
      "Epoch 8/20, Total Loss: 3912.3231, Average Loss: 21.0340\n"
     ]
    },
    {
     "name": "stderr",
     "output_type": "stream",
     "text": [
      "\r 40%|████      | 8/20 [06:45<10:26, 52.24s/it]"
     ]
    },
    {
     "name": "stdout",
     "output_type": "stream",
     "text": [
      "Epoch 8, Spearman Correlation: 0.4028\n",
      "Epoch 9/20, Total Loss: 3215.3491, Average Loss: 17.2868\n"
     ]
    },
    {
     "name": "stderr",
     "output_type": "stream",
     "text": [
      "\r 45%|████▌     | 9/20 [07:42<09:49, 53.57s/it]"
     ]
    },
    {
     "name": "stdout",
     "output_type": "stream",
     "text": [
      "Epoch 9, Spearman Correlation: 0.4040\n",
      "Epoch 10/20, Total Loss: 3019.8722, Average Loss: 16.2359\n"
     ]
    },
    {
     "name": "stderr",
     "output_type": "stream",
     "text": [
      "\r 50%|█████     | 10/20 [08:39<09:06, 54.68s/it]"
     ]
    },
    {
     "name": "stdout",
     "output_type": "stream",
     "text": [
      "Epoch 10, Spearman Correlation: 0.4107\n",
      "Epoch 11/20, Total Loss: 2581.6145, Average Loss: 13.8796\n"
     ]
    },
    {
     "name": "stderr",
     "output_type": "stream",
     "text": [
      "\r 55%|█████▌    | 11/20 [09:37<08:20, 55.66s/it]"
     ]
    },
    {
     "name": "stdout",
     "output_type": "stream",
     "text": [
      "Epoch 11, Spearman Correlation: 0.4171\n",
      "Epoch 12/20, Total Loss: 2409.3422, Average Loss: 12.9535\n"
     ]
    },
    {
     "name": "stderr",
     "output_type": "stream",
     "text": [
      "\r 60%|██████    | 12/20 [10:34<07:28, 56.11s/it]"
     ]
    },
    {
     "name": "stdout",
     "output_type": "stream",
     "text": [
      "Epoch 12, Spearman Correlation: 0.4194\n",
      "Epoch 13/20, Total Loss: 2306.6304, Average Loss: 12.4012\n"
     ]
    },
    {
     "name": "stderr",
     "output_type": "stream",
     "text": [
      "\r 65%|██████▌   | 13/20 [11:33<06:38, 56.94s/it]"
     ]
    },
    {
     "name": "stdout",
     "output_type": "stream",
     "text": [
      "Epoch 13, Spearman Correlation: 0.4250\n",
      "Epoch 14/20, Total Loss: 2215.9852, Average Loss: 11.9139\n"
     ]
    },
    {
     "name": "stderr",
     "output_type": "stream",
     "text": [
      "\r 70%|███████   | 14/20 [12:33<05:48, 58.07s/it]"
     ]
    },
    {
     "name": "stdout",
     "output_type": "stream",
     "text": [
      "Epoch 14, Spearman Correlation: 0.4307\n",
      "Epoch 15/20, Total Loss: 1895.2613, Average Loss: 10.1896\n"
     ]
    },
    {
     "name": "stderr",
     "output_type": "stream",
     "text": [
      "\r 75%|███████▌  | 15/20 [13:29<04:47, 57.43s/it]"
     ]
    },
    {
     "name": "stdout",
     "output_type": "stream",
     "text": [
      "Epoch 15, Spearman Correlation: 0.4321\n",
      "Epoch 16/20, Total Loss: 1821.6158, Average Loss: 9.7936\n"
     ]
    },
    {
     "name": "stderr",
     "output_type": "stream",
     "text": [
      "\r 80%|████████  | 16/20 [14:28<03:51, 57.87s/it]"
     ]
    },
    {
     "name": "stdout",
     "output_type": "stream",
     "text": [
      "Epoch 16, Spearman Correlation: 0.4375\n",
      "Epoch 17/20, Total Loss: 1609.0283, Average Loss: 8.6507\n"
     ]
    },
    {
     "name": "stderr",
     "output_type": "stream",
     "text": [
      "\r 85%|████████▌ | 17/20 [15:26<02:53, 57.87s/it]"
     ]
    },
    {
     "name": "stdout",
     "output_type": "stream",
     "text": [
      "Epoch 17, Spearman Correlation: 0.4420\n",
      "Epoch 18/20, Total Loss: 1587.0133, Average Loss: 8.5323\n"
     ]
    },
    {
     "name": "stderr",
     "output_type": "stream",
     "text": [
      "\r 90%|█████████ | 18/20 [16:25<01:56, 58.12s/it]"
     ]
    },
    {
     "name": "stdout",
     "output_type": "stream",
     "text": [
      "Epoch 18, Spearman Correlation: 0.4431\n",
      "Epoch 19/20, Total Loss: 1323.9158, Average Loss: 7.1178\n"
     ]
    },
    {
     "name": "stderr",
     "output_type": "stream",
     "text": [
      "\r 95%|█████████▌| 19/20 [17:22<00:57, 57.79s/it]"
     ]
    },
    {
     "name": "stdout",
     "output_type": "stream",
     "text": [
      "Epoch 19, Spearman Correlation: 0.4408\n",
      "Epoch 20/20, Total Loss: 1397.5549, Average Loss: 7.5137\n"
     ]
    },
    {
     "name": "stderr",
     "output_type": "stream",
     "text": [
      "100%|██████████| 20/20 [18:20<00:00, 55.02s/it]"
     ]
    },
    {
     "name": "stdout",
     "output_type": "stream",
     "text": [
      "Epoch 20, Spearman Correlation: 0.4443\n"
     ]
    },
    {
     "name": "stderr",
     "output_type": "stream",
     "text": [
      "\n"
     ]
    },
    {
     "name": "stdout",
     "output_type": "stream",
     "text": [
      "After training, Spearman Correlation: 0.4443\n"
     ]
    }
   ],
   "source": [
    "spearman_corr = evaluate(model_fine_tuned, evaluation_simlex, glove_word_to_index)\n",
    "print(f'Before training, Spearman Correlation: {spearman_corr:.4f}')\n",
    "\n",
    "# TODO\n",
    "\n",
    "def train(model, syn_loader, ant_loader, optimizer, num_epochs, eval_data, word_to_index):\n",
    "    \"\"\"\n",
    "    Entraîne le modèle avec les paires de synonymes et d'antonymes.\n",
    "\n",
    "    Args:\n",
    "        model (nn.Module): Le modèle à entraîner.\n",
    "        syn_loader (DataLoader): DataLoader pour les synonymes.\n",
    "        ant_loader (DataLoader): DataLoader pour les antonymes.\n",
    "        optimizer (torch.optim.Optimizer): Optimiseur utilisé pour l'entraînement.\n",
    "        num_epochs (int): Nombre total d'époques d'entraînement.\n",
    "        eval_data (pd.DataFrame): Données pour évaluation finale avec SimLex-999.\n",
    "        word_to_index (dict): Dictionnaire de mots à indices.\n",
    "    \"\"\"\n",
    "    # Mise en mode entraînement\n",
    "    model.train()\n",
    "    losses = []\n",
    "    spearman_correlations = []\n",
    "\n",
    "    for epoch in tqdm(range(num_epochs)):\n",
    "        syn_iter = iter(syn_loader)\n",
    "        ant_iter = iter(ant_loader)\n",
    "        total_loss = 0.0\n",
    "        num_batches = 0\n",
    "\n",
    "        for syn_data, ant_data in zip(syn_iter, ant_iter):\n",
    "            try:\n",
    "                optimizer.zero_grad()\n",
    "                syn_cost = forward(model, syn_data, [])\n",
    "                ant_cost = forward(model, [], ant_data)\n",
    "                total_cost = syn_cost + ant_cost\n",
    "                total_cost.backward()\n",
    "                optimizer.step()\n",
    "\n",
    "                total_loss += total_cost.item()\n",
    "                num_batches += 1\n",
    "            except IndexError as e:\n",
    "                print(f'IndexError during processing: {e}')\n",
    "                continue\n",
    "\n",
    "        average_loss = total_loss / num_batches if num_batches > 0 else 0\n",
    "        losses.append(average_loss)\n",
    "        print(f\"Epoch {epoch + 1}/{num_epochs}, Total Loss: {total_loss:.4f}, Average Loss: {average_loss:.4f}\")\n",
    "\n",
    "        #if (epoch + 1) % 5 == 0:\n",
    "        model.eval()\n",
    "        spearman_corr = evaluate(model, eval_data, word_to_index)\n",
    "        spearman_correlations.append(spearman_corr)\n",
    "        print(f'Epoch {epoch + 1}, Spearman Correlation: {spearman_corr:.4f}')\n",
    "        model.train()\n",
    "    return losses, spearman_correlations\n",
    "\n",
    "losses_tuned, spearman_correlations_tuned = train(model_fine_tuned, syn_data_loader, ant_data_loader, optimizer, NUM_EPOCHS, evaluation_simlex, glove_word_to_index)\n",
    "\n",
    "# Vérification après l'entraînement\n",
    "spearman_corr = evaluate(model_fine_tuned, evaluation_simlex, glove_word_to_index)\n",
    "print(f'After training, Spearman Correlation: {spearman_corr:.4f}')\n",
    "\n",
    "# END TODO"
   ]
  },
  {
   "cell_type": "markdown",
   "metadata": {
    "id": "xsbGT-J5A5TZ"
   },
   "source": [
    "#### 5.2 Courbes d'entraînement (4 points)\n",
    "\n",
    "Affichez la perte moyenne sur le jeu d'entraînement et la corrélation de Spearman sur le jeu de validation à chaque époque."
   ]
  },
  {
   "cell_type": "code",
   "execution_count": 40,
   "metadata": {
    "colab": {
     "base_uri": "https://localhost:8080/",
     "height": 662
    },
    "id": "83H3fTxPA5TZ",
    "outputId": "e2866e37-1db3-4541-a425-3aa8bc9423a9"
   },
   "outputs": [
    {
     "name": "stderr",
     "output_type": "stream",
     "text": [
      "<ipython-input-40-0d463b2b4523>:7: MatplotlibDeprecationWarning: Auto-removal of overlapping axes is deprecated since 3.6 and will be removed two minor releases later; explicitly call ax.remove() as needed.\n",
      "  plt.subplot(1, 2, 1)\n"
     ]
    },
    {
     "data": {
      "image/png": "[encoded data removed]",
      "text/plain": [
       "<Figure size 1400x600 with 2 Axes>"
      ]
     },
     "metadata": {},
     "output_type": "display_data"
    }
   ],
   "source": [
    "# TODO\n",
    "# Tracé des courbes de perte et de corrélation\n",
    "plt.figure(figsize=(14, 6))\n",
    "plt.title('Courbe du modèle en Fine tuned')\n",
    "\n",
    "# Courbe de perte\n",
    "plt.subplot(1, 2, 1)\n",
    "plt.plot(losses_tuned, marker='o', color='b')\n",
    "plt.title('Perte moyenne au cours de l\\'entraînement')\n",
    "plt.xlabel('Époques')\n",
    "plt.ylabel('Perte moyenne')\n",
    "\n",
    "# Courbe de corrélation de Spearman\n",
    "plt.subplot(1, 2, 2)\n",
    "plt.plot(spearman_correlations_tuned, marker='o', color='g')\n",
    "plt.title('Corrélation de Spearman au cours de l\\'entraînement')\n",
    "plt.xlabel('Époques')\n",
    "plt.ylabel('Corrélation de Spearman')\n",
    "\n",
    "plt.tight_layout()\n",
    "plt.show()\n",
    "# END TODO\n"
   ]
  },
  {
   "cell_type": "markdown",
   "metadata": {
    "id": "6bXnfr4FA5TZ"
   },
   "source": [
    "#### 5.3 Vérification sur un exemple (3 points)\n",
    "\n",
    "Avec le modèle `model_fine_tuned`, calculez la similarité cosinus entre 'fast' et 'slow' et entre 'fast' et 'rapid'. Commentez les résultats en les comparant avec ceux de la partie 1.4."
   ]
  },
  {
   "cell_type": "code",
   "execution_count": 44,
   "metadata": {
    "colab": {
     "base_uri": "https://localhost:8080/"
    },
    "id": "CH4uvQZeA5TZ",
    "outputId": "46cbb0c9-b0a9-42cb-d785-e5200538a86e"
   },
   "outputs": [
    {
     "name": "stdout",
     "output_type": "stream",
     "text": [
      "Similarité cosinus entre 'fast' et 'slow': 0.1589\n",
      "Similarité cosinus entre 'fast' et 'rapid': 0.5778\n",
      "La similarité entre 'fast' et 'rapid' est plus élevée que celle entre \n",
      " 'fast' et 'slow', ce qui indique que les mots 'rapid' et 'fast' sont \n",
      " plus proches dans le modèle que les mots 'fast' et 'slow'.\n"
     ]
    }
   ],
   "source": [
    "# TODO\n",
    "# Liste des mots à comparer\n",
    "words_to_compare = ['fast', 'slow', 'rapid']\n",
    "\n",
    "# Récupérer les embeddings pour les mots\n",
    "embeddings_fine_tuned = [model_fine_tuned.embeddings(torch.tensor(glove_word_to_index[word]).to(device)) for word in words_to_compare]\n",
    "\n",
    "\n",
    "# Calculer la similarité cosinus\n",
    "similarity_fast_slow = cosine_similarity(embeddings_fine_tuned[0].unsqueeze(0), embeddings_fine_tuned[1].unsqueeze(0))\n",
    "similarity_fast_rapid = cosine_similarity(embeddings_fine_tuned[0].unsqueeze(0), embeddings_fine_tuned[2].unsqueeze(0))\n",
    "\n",
    "# Afficher les résultats\n",
    "print(f\"Similarité cosinus entre 'fast' et 'slow': {similarity_fast_slow.item():.4f}\")\n",
    "print(f\"Similarité cosinus entre 'fast' et 'rapid': {similarity_fast_rapid.item():.4f}\")\n",
    "\n",
    "# Commentaires\n",
    "\n",
    "\n",
    "print( \"La similarité entre 'fast' et 'rapid' est plus élevée que celle entre \\n 'fast' et 'slow', ce qui indique que les mots 'rapid' et 'fast' sont \\n plus proches dans le modèle que les mots 'fast' et 'slow'.\")\n",
    "\n",
    "# END TODO"
   ]
  },
  {
   "cell_type": "markdown",
   "metadata": {
    "id": "MoK-ggoqA5TZ"
   },
   "source": [
    "#### 5.4 Analyse, comparaison, conclusion (5 points)\n",
    "\n",
    "Comparez les performances des trois modèles (GloVe, zéro, fine-tuned). Quelle méthode est la plus performante ? Pourquoi ?\n"
   ]
  },
  {
   "cell_type": "code",
   "execution_count": 45,
   "metadata": {
    "colab": {
     "base_uri": "https://localhost:8080/"
    },
    "id": "FXG2xLC9A5TZ",
    "outputId": "22a2cd04-1682-4b53-f391-fc27d4341dd7"
   },
   "outputs": [
    {
     "name": "stdout",
     "output_type": "stream",
     "text": [
      "\n",
      "                        Le modèle model_fine_tuned est clairement le meilleur parmi les trois, avec une corrélation de Spearman de 0.46,\n",
      "                        ce qui indique une forte capacité à capturer les similarités sémantiques.\n",
      "\n",
      "                        Le modèle GloVe suit avec 0.29, tandis que le modèle zéro reste en retrait avec 0.18.\n",
      "                        Ainsi, le modèle model_fine_tuned est le plus performant tout simplement parce qu'il tire partie des\n",
      "                        embeddings pré-entrainés dans le modèle Glove tout en s'ajustant aux données spécifiques permettant ainsi\n",
      "                        une meilleure compréhension sémantique comme l'a illustrée la matrice des cosinus similarité entre\n",
      "                        'Fast -Rapid' et 'Fast -Slow'.\n",
      "                     \n"
     ]
    }
   ],
   "source": [
    "analyse_comparative= \"\"\"\n",
    "                        Le modèle model_fine_tuned est clairement le meilleur parmi les trois, avec une corrélation de Spearman de 0.46,\n",
    "                        ce qui indique une forte capacité à capturer les similarités sémantiques.\n",
    "\n",
    "                        Le modèle GloVe suit avec 0.29, tandis que le modèle zéro reste en retrait avec 0.18.\n",
    "                        Ainsi, le modèle model_fine_tuned est le plus performant tout simplement parce qu'il tire partie des\n",
    "                        embeddings pré-entrainés dans le modèle Glove tout en s'ajustant aux données spécifiques permettant ainsi\n",
    "                        une meilleure compréhension sémantique comme l'a illustrée la matrice des cosinus similarité entre\n",
    "                        'Fast -Rapid' et 'Fast -Slow'.\n",
    "                     \"\"\"\n",
    "\n",
    "print(analyse_comparative)"
   ]
  },
  {
   "cell_type": "markdown",
   "metadata": {
    "id": "JHx3B7P2A5TZ"
   },
   "source": [
    "## Livrables\n",
    "Vous devez remettre votre notebook sur Moodle et Gradescope en ipynb et pdf. Pour Gradescope vous devez associer les numéros de questions avec vos réponses dans le pdf grâce à l'outil que fournit Gradescope.\n",
    "\n",
    "\n",
    "## Évaluation\n",
    "Votre TP sera évalué selon les critères suivants :\n",
    "1. Exécution correcte du code et obtention des sorties attendues\n",
    "2. Réponses correctes aux questions d'analyse\n",
    "3. Qualité du code (noms significatifs, structure, performance, gestion d’exception, etc.)\n",
    "4. Commentaires clairs et informatifs"
   ]
  }
 ],
 "metadata": {
  "colab": {
   "provenance": []
  },
  "kernelspec": {
   "display_name": "Python 3",
   "language": "python",
   "name": "python3"
  },
  "language_info": {
   "codemirror_mode": {
    "name": "ipython",
    "version": 3
   },
   "file_extension": ".py",
   "mimetype": "text/x-python",
   "name": "python",
   "nbconvert_exporter": "python",
   "pygments_lexer": "ipython3",
   "version": "3.11.4"
  }
 },
 "nbformat": 4,
 "nbformat_minor": 0
}
